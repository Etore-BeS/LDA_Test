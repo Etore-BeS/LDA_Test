{
 "cells": [
  {
   "cell_type": "markdown",
   "metadata": {},
   "source": [
    "# Importações Iniciais\n",
    "Nesta célula, importamos todas as bibliotecas necessárias para o processamento do texto, análise de frequência, modelagem de tópicos LDA e visualização dos resultados. `spacy` é utilizado para o processamento de linguagem natural (NLP), `gensim` para modelagem de tópicos e representação bag-of-words, `nltk` para análise de frequência e manipulação de texto, e `pyLDAvis` para a visualização interativa dos tópicos. `pandas` e `matplotlib` são usados para manipulação de dados e visualização, respectivamente."
   ]
  },
  {
   "cell_type": "code",
   "execution_count": 183,
   "metadata": {},
   "outputs": [
    {
     "name": "stderr",
     "output_type": "stream",
     "text": [
      "[nltk_data] Downloading package stopwords to\n",
      "[nltk_data]     /Users/etorebraga/nltk_data...\n",
      "[nltk_data]   Package stopwords is already up-to-date!\n",
      "[nltk_data] Downloading package punkt to\n",
      "[nltk_data]     /Users/etorebraga/nltk_data...\n",
      "[nltk_data]   Package punkt is already up-to-date!\n"
     ]
    }
   ],
   "source": [
    "import spacy\n",
    "from gensim.corpora import Dictionary\n",
    "import nltk\n",
    "from nltk.probability import FreqDist\n",
    "nltk.download('stopwords')\n",
    "nltk.download('punkt')\n",
    "from itertools import chain\n",
    "from nltk.corpus import stopwords\n",
    "\n",
    "from sentence_transformers import SentenceTransformer, models\n",
    "\n",
    "from unidecode import unidecode\n",
    "from gensim.models import CoherenceModel\n",
    "from gensim.models import LdaModel\n",
    "\n",
    "import pandas as pd\n",
    "import matplotlib.pyplot as plt\n",
    "import pyLDAvis\n",
    "import pyLDAvis.gensim"
   ]
  },
  {
   "cell_type": "markdown",
   "metadata": {},
   "source": [
    "# Habilitando a Visualização no Notebook\n",
    "Com `pyLDAvis.enable_notebook()`, habilitamos a visualização interativa do LDA diretamente no Jupyter Notebook, facilitando a análise exploratória dos tópicos gerados pelo modelo."
   ]
  },
  {
   "cell_type": "code",
   "execution_count": 2,
   "metadata": {},
   "outputs": [],
   "source": [
    "pyLDAvis.enable_notebook()"
   ]
  },
  {
   "cell_type": "markdown",
   "metadata": {},
   "source": [
    "# Preparação das Stopwords\n",
    "Aqui, carregamos e definimos as stopwords específicas para documentos jurídicos em português. Isso inclui stopwords comuns da língua portuguesa e termos frequentes em textos legais que não contribuem significativamente para a identificação de tópicos distintos.\n"
   ]
  },
  {
   "cell_type": "code",
   "execution_count": 65,
   "metadata": {},
   "outputs": [],
   "source": [
    "#Getting portuguese legal stopwords\n",
    "nlp = spacy.load('pt_core_news_sm')\n",
    "\n",
    "legal_stopwords = ['processo', 'lei', 'artigo', 'n', 'nº', 'nºs', 'nºs.', 'nº.', 'nºs', 'nºs.', 'nº', 'recursais', 'causa', 'data']\n",
    "\n",
    "manual_stopwords = ['nao', '1a', 'ix', '2o', 'janeiro', 'Rio', '4o', '3o', '1o', '5o', 'rio', 'Rio de Janeiro', 'rio de janeiro', ' ']\n",
    "\n",
    "custom_stopwords = legal_stopwords + manual_stopwords\n"
   ]
  },
  {
   "cell_type": "markdown",
   "metadata": {},
   "source": [
    "# Leitura e Preprocessamento dos Documentos\n",
    "Nesta célula, lemos os documentos a partir de um arquivo Excel e realizamos o preprocessamento. O preprocessamento inclui a remoção de acentos, a lematização dos tokens, a remoção de stopwords e pontuação, e a filtragem de tokens baseada em critérios específicos, como comprimento do token e presença na lista de stopwords personalizada.\n",
    "\n"
   ]
  },
  {
   "cell_type": "code",
   "execution_count": 66,
   "metadata": {},
   "outputs": [
    {
     "data": {
      "text/plain": [
       "'os juizes que integram a turma recursal dos juizados especiais civeis, por unanimidade, em conhecer do recurso e dar-lhe parcial provimento para reformar a sentenca e julgar procedente em parte o pedido indenizatorio para condenar o reu ao pagamento de r$ 3.000,00 (tres mil reais), a titulo de danos morais, diante da caracterizacao da ofensa a bem da personalidade do autor, atendendo ao carater punitivo, pedagogico e compensatorio, sendo a indenizacao fixada de acordo com o principio da razoabilidade e proporcionalidade, evitando-se o injusto enriquecimento, tendo sido todas as questoes aduzidas no recurso apreciadas, sendo dispensada a transcricao das conclusoes em homenagem aos principios informativos previstos no artigo 2o da lei 9099/95, e na forma do artigo 46, segunda  publicacao oficial do tribunal de justica do estado do rio de janeiro – lei federal no 11.419/2006, art. 4o e resolucao tj/oe no 10/2008.  ano 10 – no 227/2018 data de disponibilizacao: sexta-feira, 17 de agosto caderno iii – 1a instancia (capital) data de publicacao: segunda-feira, 20 de agosto 377 parte, da mesma lei, frisando-se, outrossim, que a motivacao concisa atende a exigencia do artigo 93 da constituicao federal, e esta em conformidade com o disposto no artigo 26 do regimento interno das turmas recursais (resolucao do conselho da magistratura do tj/rj no 14/2012). juros a partir da citacao e correcao a partir da presente data. sem onus sucumbenciais porque nao verificada a hipotese prevista no art. 55 caput da lei 9099/95. '"
      ]
     },
     "execution_count": 66,
     "metadata": {},
     "output_type": "execute_result"
    }
   ],
   "source": [
    "preprocessed_docs = list(pd.read_excel('data_example.xlsx')[1])\n",
    "preprocessed_docs [0]"
   ]
  },
  {
   "cell_type": "code",
   "execution_count": 67,
   "metadata": {},
   "outputs": [],
   "source": [
    "docs = list(pd.read_excel('data_example.xlsx')[1])\n",
    "\n",
    "preprocessed_docs = []\n",
    "\n",
    "for doc in docs:\n",
    "    # Remove accents\n",
    "    doc = unidecode(doc)\n",
    "    \n",
    "    parsed_doc = nlp(doc)\n",
    "    preprocessed_doc = [token.lemma_ for token in parsed_doc if not token.is_stop and not token.is_punct and token.text not in custom_stopwords and not (token.is_digit and len(token.text) < 4)]\n",
    "    \n",
    "    preprocessed_docs.append(preprocessed_doc)"
   ]
  },
  {
   "cell_type": "markdown",
   "metadata": {},
   "source": [
    "# Análise de Frequência de Tokens\n",
    "Após o preprocessamento, analisamos a frequência dos tokens nos documentos para identificar potenciais stopwords adicionais e entender a distribuição de palavras no corpus.\n",
    "\n"
   ]
  },
  {
   "cell_type": "code",
   "execution_count": 68,
   "metadata": {},
   "outputs": [
    {
     "name": "stdout",
     "output_type": "stream",
     "text": [
      "[('turma', 210), ('recurso', 209), ('.', 167), ('art', 166), ('ser', 156), ('disposto', 141), ('juiz', 137), ('recursal', 136), ('unanimidade', 134), ('conhecer', 132), ('integrar', 131), ('9099/95', 130), ('provimento', 129), ('sentenca', 106), ('civel', 104), ('federal', 103), ('principio', 99), ('prever', 97), ('resolucao', 95), ('tj', 89), ('honorario', 87), ('atender', 86), ('custa', 86), ('recorrente', 85), ('questoe', 84), ('conclusoe', 84), ('homenagem', 84), ('frisando-se', 84), ('motivacao', 84), ('concisa', 84)]\n"
     ]
    }
   ],
   "source": [
    "# Flatten the list of lists into a single list\n",
    "words = list(chain.from_iterable(preprocessed_docs))\n",
    "\n",
    "tokens = nltk.word_tokenize(' '.join(words))\n",
    "\n",
    "# Get the frequency distribution of the tokens\n",
    "freq_dist = FreqDist(tokens)\n",
    "\n",
    "# Display the most common 30 tokens, which could be potential stopwords\n",
    "common_tokens = freq_dist.most_common(30)\n",
    "print(common_tokens)"
   ]
  },
  {
   "cell_type": "markdown",
   "metadata": {},
   "source": [
    "# Criação do Dicionário e do Corpus\n",
    "Utilizamos o `Dictionary` do Gensim para mapear cada palavra única a um ID e filtramos palavras extremamente raras ou frequentes. Em seguida, transformamos os documentos em uma representação bag-of-words (BoW), essencial para a modelagem de tópicos LDA."
   ]
  },
  {
   "cell_type": "code",
   "execution_count": 135,
   "metadata": {},
   "outputs": [],
   "source": [
    "\n",
    "# Create a dictionary representation of the documents\n",
    "dictionary = Dictionary(preprocessed_docs)\n",
    "\n",
    "dictionary.filter_extremes(no_below=15, no_above=0.6)\n",
    "\n",
    "# Create a bag-of-words representation of the documents\n",
    "corpus = [dictionary.doc2bow(doc) for doc in preprocessed_docs]"
   ]
  },
  {
   "cell_type": "markdown",
   "metadata": {},
   "source": [
    "# Função para Calcular Coerência dos Modelos LDA\n",
    "Definimos uma função para iterar sobre vários números de tópicos, treinar modelos LDA para cada configuração e calcular a coerência de cada modelo. A coerência mede a qualidade dos tópicos gerados, ajudando a escolher o número ótimo de tópicos."
   ]
  },
  {
   "cell_type": "code",
   "execution_count": 163,
   "metadata": {},
   "outputs": [],
   "source": [
    "def compute_coherence_values(dictionary, corpus, texts, limit, start=2, step=3, seed=43):\n",
    "    coherence_values = []\n",
    "    model_list = []\n",
    "    for num_topics in range(start, limit, step):\n",
    "        model = LdaModel(corpus=corpus, num_topics=num_topics, id2word=dictionary, random_state=seed, alpha='auto', eta='auto', )\n",
    "        model_list.append(model)\n",
    "        coherencemodel = CoherenceModel(model=model, texts=texts, dictionary=dictionary, coherence='c_v')\n",
    "        coherence_values.append(coherencemodel.get_coherence())\n",
    "\n",
    "    return model_list, coherence_values"
   ]
  },
  {
   "cell_type": "markdown",
   "metadata": {},
   "source": [
    "# Cálculo da Coerência para Diferentes Números de Tópicos\n",
    "Aqui, executamos a função definida anteriormente para calcular a coerência de modelos LDA com diferentes números de tópicos. Isso nos ajuda a determinar o número ideal de tópicos para o nosso modelo."
   ]
  },
  {
   "cell_type": "code",
   "execution_count": 167,
   "metadata": {},
   "outputs": [],
   "source": [
    "# Your start, limit, and step values go here\n",
    "start = 5\n",
    "limit = 12\n",
    "step = 1\n",
    "\n",
    "# Compute coherence values for a range of number of topics\n",
    "model_list, coherence_values = compute_coherence_values(dictionary=dictionary, corpus=corpus, texts=preprocessed_docs, start=start, limit=limit, step=step, seed=8)"
   ]
  },
  {
   "cell_type": "markdown",
   "metadata": {},
   "source": [
    "# Visualização da Coerência dos Modelos\n",
    "Com esta célula, visualizamos como a coerência varia com diferentes números de tópicos, permitindo-nos escolher o modelo mais coerente.\n",
    "\n"
   ]
  },
  {
   "cell_type": "code",
   "execution_count": 168,
   "metadata": {},
   "outputs": [
    {
     "data": {
      "image/png": "[encoded data removed]",
      "text/plain": [
       "<Figure size 640x480 with 1 Axes>"
      ]
     },
     "metadata": {},
     "output_type": "display_data"
    }
   ],
   "source": [
    "def plot_graph(start, limit, step, coherence_values):\n",
    "    x = range(start, limit, step)\n",
    "    plt.plot(x, coherence_values)\n",
    "    plt.xlabel(\"Number of Topics\")\n",
    "    plt.ylabel(\"Coherence score\")\n",
    "    plt.legend((\"coherence_values\"), loc='best')\n",
    "    plt.show()\n",
    "\n",
    "\n",
    "plot_graph(start, limit, step, coherence_values)\n",
    "chosen_model = model_list[max(range(len(coherence_values)), key=coherence_values.__getitem__)]"
   ]
  },
  {
   "cell_type": "markdown",
   "metadata": {},
   "source": [
    "# Preparação e Visualização dos Tópicos com pyLDAvis\n",
    "Usando `pyLDAvis.gensim.prepare`, preparamos os dados do modelo LDA escolhido para visualização e, em seguida, exibimos a visualização interativa no notebook. Esta visualização ajuda a explorar a relação entre os tópicos e as palavras mais representativas de cada tópico.\n",
    "\n"
   ]
  },
  {
   "cell_type": "code",
   "execution_count": 169,
   "metadata": {},
   "outputs": [
    {
     "data": {
      "text/html": [
       "\n",
       "<link rel=\"stylesheet\" type=\"text/css\" href=\"https://cdn.jsdelivr.net/gh/bmabey/pyLDAvis@3.4.0/pyLDAvis/js/ldavis.v1.0.0.css\">\n",
       "\n",
       "\n",
       "<div id=\"ldavis_el1488811168050528430127331\" style=\"background-color:white;\"></div>\n",
       "<script type=\"text/javascript\">\n",
       "\n",
       "var ldavis_el1488811168050528430127331_data = {\"mdsDat\": {\"x\": [0.11414502310787143, 0.04010577460460588, 0.10201635002167062, -0.00469315215064231, -0.20195117260675666, 0.048032073875692756, -0.11965456247206609, 0.021999665619624405], \"y\": [0.0036556443224559964, -0.12319341053031896, 0.06999485759074402, -0.021744365946094173, 0.054235450175126196, -0.00495953633862905, -0.056388793667912565, 0.07840015439462848], \"topics\": [1, 2, 3, 4, 5, 6, 7, 8], \"cluster\": [1, 1, 1, 1, 1, 1, 1, 1], \"Freq\": [43.27609245343877, 18.411410262880896, 10.853514160565238, 10.739391207127085, 8.175460961902889, 4.388185268103064, 2.786193956199726, 1.3697517297823352]}, \"tinfo\": {\"Term\": [\"9099/95\", \"especial\", \"juizado\", \"conforme\", \"valer\", \"condenar\", \"acordao\", \"termos\", \"relator\", \"dano\", \"sumula\", \"voto\", \"negar-lhe\", \"dar ela\", \"ter\", \"publico\", \"resolucao\", \"mesmo\", \"publicacao\", \"9.099/95\", \"R$\", \"julgamento\", \"sucumbencial\", \"presente\", \"onu\", \"moral\", \"justica\", \"arbitrar\", \"fazendar\", \"ministerio\", \"codigo\", \"civil\", \"condenar\", \"aduzir\", \"conforme\", \"ter\", \"9099/95\", \"negar-lhe\", \"acordao\", \"sumula\", \"advocaticio\", \"mesmo\", \"rj\", \"valer\", \"tj\", \"conformidade\", \"interno\", \"condenacao\", \"especial\", \"regimento\", \"14/2012\", \"resolucao\", \"juizado\", \"transcricao\", \"dispensar\", \"magistratura\", \"tribunal\", \"publicacao\", \"caderno\", \"instancia\", \"observar\", \"oficial\", \"processual\", \"negar\", \"deduzir\", \"inciso\", \"9.099/95\", \"arbitrar\", \"pagamento\", \"gratuidade\", \"ano\", \"iii\", \"11.419/2006\", \"disponibilizacao\", \"instancia\", \"publicacao\", \"oe\", \"oficial\", \"caderno\", \"condenacao\", \"capital\", \"tribunal\", \"10/2008\", \"justica\", \"magistratura\", \"dispensar\", \"advocaticio\", \"transcricao\", \"interno\", \"regimento\", \"termos\", \"resolucao\", \"14/2012\", \"conformidade\", \"tj\", \"rj\", \"mesmo\", \"sumula\", \"valer\", \"observar\", \"acordao\", \"observar\", \"gratuidade\", \"justica\", \"condenar\", \"valer\", \"conforme\", \"negar-lhe\", \"acordao\", \"sumula\", \"9099/95\", \"especial\", \"juizado\", \"ter\", \"aduzir\", \"civil\", \"iii\", \"10/2008\", \"disponibilizacao\", \"advocaticio\", \"instancia\", \"condenacao\", \"dispensar\", \"tj\", \"fazendar\", \"tribunal\", \"rj\", \"caderno\", \"codigo\", \"ano\", \"11.419/2006\", \"regimento\", \"mesmo\", \"14/2012\", \"resolucao\", \"transcricao\", \"interno\", \"conformidade\", \"magistratura\", \"publicacao\", \"R$\", \"onu\", \"sucumbencial\", \"parcial\", \"dar ela\", \"dano\", \"real\", \"moral\", \"arbitrar\", \"deduzir\", \"gratuidade\", \"pagamento\", \"juizado\", \"especial\", \"9099/95\", \"mesmo\", \"rj\", \"14/2012\", \"9.099/95\", \"magistratura\", \"transcricao\", \"regimento\", \"processual\", \"ter\", \"negar\", \"aduzir\", \"conformidade\", \"inciso\", \"dispensar\", \"interno\", \"tj\", \"resolucao\", \"advocaticio\", \"conforme\", \"observar\", \"relator\", \"ministerio\", \"julgamento\", \"voto\", \"publico\", \"fazendar\", \"presente\", \"termos\", \"dar ela\", \"parcial\", \"negar-lhe\", \"negar\", \"deduzir\", \"inciso\", \"juizado\", \"especial\", \"capital\", \"pagamento\", \"processual\", \"9.099/95\", \"arbitrar\", \"gratuidade\", \"R$\", \"moral\", \"dano\", \"rj\", \"advocaticio\", \"resolucao\", \"regimento\", \"sumula\", \"interno\", \"tj\", \"conformidade\", \"transcricao\", \"dispensar\", \"magistratura\", \"mesmo\", \"14/2012\", \"9.099/95\", \"11.419/2006\", \"acordao\", \"oe\", \"10/2008\", \"caderno\", \"iii\", \"publicacao\", \"codigo\", \"sumula\", \"justica\", \"disponibilizacao\", \"capital\", \"civil\", \"ano\", \"juizado\", \"valer\", \"conforme\", \"especial\", \"tribunal\", \"oficial\", \"negar-lhe\", \"condenar\", \"moral\", \"ter\", \"instancia\", \"inciso\", \"9099/95\", \"condenacao\", \"advocaticio\", \"tj\", \"14/2012\", \"resolucao\", \"magistratura\", \"conformidade\", \"dispensar\", \"transcricao\", \"interno\", \"mesmo\", \"rj\", \"regimento\", \"aduzir\", \"capital\", \"dar ela\", \"relator\", \"10/2008\", \"tribunal\", \"voto\", \"publico\", \"disponibilizacao\", \"iii\", \"11.419/2006\", \"caderno\", \"dano\", \"oe\", \"real\", \"publicacao\", \"ano\", \"instancia\", \"fazendar\", \"oficial\", \"sucumbencial\", \"onu\", \"presente\", \"ministerio\", \"termos\", \"justica\", \"parcial\", \"moral\", \"julgamento\", \"R$\", \"inciso\", \"9.099/95\", \"resolucao\", \"tj\", \"dano\", \"dar ela\", \"onu\", \"moral\", \"especial\", \"juizado\", \"sucumbencial\", \"voto\", \"gratuidade\", \"real\", \"presente\", \"conforme\", \"valer\", \"negar\", \"justica\", \"parcial\", \"9099/95\", \"mesmo\", \"condenar\", \"pagamento\", \"acordao\", \"sumula\", \"R$\", \"ter\", \"termos\", \"arbitrar\", \"observar\", \"9.099/95\", \"resolucao\", \"negar-lhe\", \"14/2012\"], \"Freq\": [123.0, 64.0, 64.0, 60.0, 65.0, 59.0, 64.0, 35.0, 27.0, 30.0, 67.0, 26.0, 65.0, 25.0, 61.0, 23.0, 98.0, 76.0, 37.0, 41.0, 28.0, 19.0, 21.0, 19.0, 19.0, 21.0, 26.0, 31.0, 16.0, 15.0, 18.310941642375717, 17.60178726719432, 38.6581193790769, 37.14868080671656, 37.88463543649865, 37.814046250602516, 74.3262753494151, 36.76223810875998, 34.58359596663576, 35.91946037507536, 35.048017935773075, 40.12048247467603, 39.78679926232208, 34.252022958947755, 47.86028503192965, 40.989257667707996, 41.22258601220071, 20.0750235923841, 32.27943378299419, 40.23545149286361, 38.66131308427527, 48.958574472822065, 31.82498395081348, 38.42543763974063, 37.669355239987425, 37.97085236999337, 9.041601687109296, 16.603549051876847, 8.41758511384397, 8.733991844674252, 17.171513040643138, 9.082789998679251, 15.861164001447873, 15.099982195845708, 11.676213322644964, 14.938693630515283, 25.705983011311748, 17.192007722426315, 16.468394581018384, 6.519009889517708, 6.18621996321985, 5.741779803356814, 5.551148386388634, 5.664200567557637, 5.76909570920475, 10.786513302695775, 5.429876898220478, 5.791897222950879, 5.079858397391827, 10.320246998002894, 5.5445192234731016, 5.107800695473756, 4.649553419550912, 6.640382213824423, 18.860833733814356, 18.168586672372673, 15.302206515969411, 18.07275237803314, 17.565532660605665, 17.68322376883101, 7.624680472221142, 20.96144287860439, 16.51961376321393, 16.375846522493983, 18.21954005608317, 14.037298477224013, 13.968323770354242, 9.541063385913436, 9.089641833673914, 7.341415959800652, 8.381708014787778, 10.665177918576976, 4.4698547993293, 6.409865740270768, 13.908676041227977, 14.896669681155279, 13.096513765052027, 13.926882532993421, 13.695958342691364, 13.645337151485796, 20.59217332172231, 10.510078682334889, 10.117931273937288, 8.74972755255862, 7.708639132405497, 2.7794988427127794, 2.2036740269854724, 2.0624549670945065, 2.0328944825820128, 6.893234619281187, 2.02475629252635, 3.802753863929426, 7.537777956825067, 8.848349519403008, 1.5693115764323604, 1.8505074231016856, 7.171178367517686, 1.7581837946347174, 2.164829776638502, 1.7897258896646528, 1.6549267931261908, 7.222317834517973, 6.825550320647997, 6.855913831319169, 8.589873985083369, 6.868193570920477, 6.853894418444607, 6.646389610168834, 6.453941645092075, 3.2887968515461066, 15.2424308949427, 8.700410497877654, 9.316910541378087, 9.414226090630029, 10.356467812167239, 12.341370866722126, 6.876153234591064, 7.862207444655992, 7.8905050430369235, 2.7792768141616704, 2.6634520877005463, 4.6486595311728856, 8.69987110878974, 8.13239475713572, 15.4255174406665, 9.519984298831867, 9.464743266835436, 9.562031711108085, 4.991924036222405, 9.413990819409774, 9.235660655452147, 9.510714395913975, 2.749681429372234, 7.13316373243774, 2.6487316444968108, 6.589081146311128, 8.9498793062861, 2.702103246071467, 8.611415093069208, 8.419911367076047, 8.781322655761613, 9.12253422967955, 3.3661744255780524, 3.1300540063215756, 2.782680386411377, 20.471058649561822, 11.607201104652454, 14.210170480589872, 19.23502763307975, 16.454670128788315, 11.43832075269777, 11.53543056600708, 20.739385399516006, 7.229784250509599, 3.4044668270552028, 8.243354411710282, 2.474027826177096, 1.6696077871440973, 2.173052855700978, 4.78312669538513, 4.746707007628356, 1.5254346929948115, 2.2905289634889208, 1.5514763461721162, 2.427710255074875, 1.7970261411976909, 0.835127484965584, 1.333315083215159, 0.9589724057967364, 1.2151297877214418, 2.997603343548456, 2.436571077783364, 3.5808185137897497, 2.698606133956787, 2.14303215809011, 2.5366344298824477, 2.6338597931234506, 2.297452055110727, 2.262827105400164, 2.2003321311823956, 2.157044031682206, 2.0102576520241526, 1.8998302964087335, 3.4973159337144226, 1.5047613334198269, 4.958177439158877, 1.3866597352926642, 1.3119249123349708, 1.3027418511669968, 1.2888475911090358, 2.5566672291866994, 1.5474287052090183, 4.368640749812855, 1.7272187890038326, 1.2129807646755193, 1.3155531712008313, 1.4480941542375352, 1.1841610260522706, 3.830440157826531, 3.7995131273400116, 3.4741626361276214, 3.6762839001233614, 1.1177906909634798, 1.1983632894040641, 3.6895965976872858, 3.3618091037861166, 1.1572312824701056, 3.15057953670343, 1.0102800424872829, 1.1607851155130766, 5.877115289429132, 1.672884947971295, 2.8032590298860107, 3.8257761395921253, 3.1936636709502597, 3.91252298025658, 2.9949546980307455, 2.7514411582263594, 2.6267951823097064, 2.621601101592639, 2.3993542976680615, 2.283163405339245, 2.1746191017960435, 2.13998584253397, 1.8643061708941255, 2.7192232941731422, 2.6540681536565804, 2.74614781489041, 1.8148535057281237, 1.8808956666067993, 2.5257358422401954, 2.1802604680002355, 1.784680046151621, 1.7164976163858916, 1.6617096582021131, 1.702187293115644, 2.749633733186804, 1.6601233726996107, 1.5406126032513934, 3.1495478549621945, 1.631069834344531, 1.6558359435353422, 1.3065046255395432, 1.6303221888324018, 1.5631264936251932, 1.3885436719498376, 1.332541282051004, 1.1051253364273548, 2.414488834078975, 1.785732178596361, 1.333264034174185, 1.2308031265460198, 1.1182381751767179, 1.4202893529672902, 0.7408086905270977, 1.2407042258789545, 2.6308250416912853, 1.6937771249478861, 1.8092226576305268, 1.359055275427965, 0.928228402019511, 0.933830900525448, 2.7954355259773287, 2.7725545373735847, 0.9098570551496246, 0.9773866290463429, 0.5625262437314821, 0.49053483972041106, 0.5173252492786613, 1.5361806279259664, 1.5136406471420314, 0.5173607190701378, 0.5816824548078889, 0.4592936627508027, 2.400101260870257, 1.3902786483599414, 1.047694739083944, 0.5299397383648891, 1.0427527530886784, 1.0650478332850706, 0.45081665915550456, 0.9281930013699282, 0.5175949372351017, 0.4594898874451695, 0.5947150103544722, 0.534685430523894, 0.9264458548576113, 0.5837965373501581, 0.48019885259970996], \"Total\": [123.0, 64.0, 64.0, 60.0, 65.0, 59.0, 64.0, 35.0, 27.0, 30.0, 67.0, 26.0, 65.0, 25.0, 61.0, 23.0, 98.0, 76.0, 37.0, 41.0, 28.0, 19.0, 21.0, 19.0, 19.0, 21.0, 26.0, 31.0, 16.0, 15.0, 23.53993227853413, 23.437750573877395, 59.878437493234614, 57.95212258742958, 60.54961247434398, 61.42501158114023, 123.01574351358836, 65.09037855047043, 64.75803492234833, 67.6902330374993, 66.09249388142162, 76.5520496690282, 76.52173891981766, 65.87689701743761, 92.3017586564779, 79.19806230594267, 80.2325131300972, 39.19757545231277, 64.53659665435046, 80.92653099300415, 77.8009325018137, 98.68303795678459, 64.44665984538746, 78.56207289621942, 77.97913278296274, 79.05608457737493, 19.670357372897396, 37.48899152610898, 19.04977702778466, 19.956422161222367, 41.05271564704868, 21.127486341920644, 23.67592015899829, 23.20113396958974, 18.43604902647981, 24.222618067068804, 41.71038547039806, 31.64281677109663, 32.186431695508645, 17.81431684361611, 19.622386919542286, 18.879108503408037, 18.514465020751654, 19.247216329169824, 19.956422161222367, 37.48899152610898, 18.968768826222014, 21.127486341920644, 19.04977702778466, 39.19757545231277, 21.162774379012383, 19.670357372897396, 18.748039602463844, 26.842080399327887, 79.05608457737493, 77.97913278296274, 66.09249388142162, 78.56207289621942, 80.2325131300972, 80.92653099300415, 35.34738406288319, 98.68303795678459, 77.8009325018137, 79.19806230594267, 92.3017586564779, 76.52173891981766, 76.5520496690282, 67.6902330374993, 65.87689701743761, 41.05271564704868, 64.75803492234833, 41.05271564704868, 17.81431684361611, 26.842080399327887, 59.878437493234614, 65.87689701743761, 60.54961247434398, 65.09037855047043, 64.75803492234833, 67.6902330374993, 123.01574351358836, 64.53659665435046, 64.44665984538746, 61.42501158114023, 57.95212258742958, 23.437750573877395, 18.879108503408037, 18.748039602463844, 19.247216329169824, 66.09249388142162, 19.956422161222367, 39.19757545231277, 77.97913278296274, 92.3017586564779, 16.654533545328725, 19.670357372897396, 76.52173891981766, 19.04977702778466, 23.53993227853413, 19.622386919542286, 18.514465020751654, 80.92653099300415, 76.5520496690282, 77.8009325018137, 98.68303795678459, 78.56207289621942, 80.2325131300972, 79.19806230594267, 79.05608457737493, 37.48899152610898, 28.8256733025198, 19.39525955123961, 21.21257367623384, 21.91032120597392, 25.90514081616649, 30.904826313289885, 17.6619920789038, 21.431420951603155, 31.64281677109663, 18.43604902647981, 17.81431684361611, 32.186431695508645, 64.44665984538746, 64.53659665435046, 123.01574351358836, 76.5520496690282, 76.52173891981766, 77.8009325018137, 41.71038547039806, 79.05608457737493, 78.56207289621942, 80.92653099300415, 23.67592015899829, 61.42501158114023, 23.20113396958974, 57.95212258742958, 79.19806230594267, 24.222618067068804, 77.97913278296274, 80.2325131300972, 92.3017586564779, 98.68303795678459, 66.09249388142162, 60.54961247434398, 41.05271564704868, 27.48959799236372, 15.894371506407541, 19.54022185555324, 26.73974470858296, 23.42807728222082, 16.654533545328725, 19.137192464605512, 35.34738406288319, 25.90514081616649, 21.91032120597392, 65.09037855047043, 23.20113396958974, 18.43604902647981, 24.222618067068804, 64.44665984538746, 64.53659665435046, 21.162774379012383, 32.186431695508645, 23.67592015899829, 41.71038547039806, 31.64281677109663, 17.81431684361611, 28.8256733025198, 21.431420951603155, 30.904826313289885, 76.52173891981766, 66.09249388142162, 98.68303795678459, 80.92653099300415, 67.6902330374993, 80.2325131300972, 92.3017586564779, 79.19806230594267, 78.56207289621942, 77.97913278296274, 79.05608457737493, 76.5520496690282, 77.8009325018137, 41.71038547039806, 18.514465020751654, 64.75803492234833, 18.968768826222014, 18.748039602463844, 19.04977702778466, 18.879108503408037, 37.48899152610898, 23.53993227853413, 67.6902330374993, 26.842080399327887, 19.247216329169824, 21.162774379012383, 23.437750573877395, 19.622386919542286, 64.44665984538746, 65.87689701743761, 60.54961247434398, 64.53659665435046, 19.670357372897396, 21.127486341920644, 65.09037855047043, 59.878437493234614, 21.431420951603155, 61.42501158114023, 19.956422161222367, 24.222618067068804, 123.01574351358836, 39.19757545231277, 66.09249388142162, 92.3017586564779, 77.8009325018137, 98.68303795678459, 79.05608457737493, 79.19806230594267, 77.97913278296274, 78.56207289621942, 80.2325131300972, 76.5520496690282, 76.52173891981766, 80.92653099300415, 57.95212258742958, 21.162774379012383, 25.90514081616649, 27.48959799236372, 18.748039602463844, 19.670357372897396, 26.73974470858296, 23.42807728222082, 19.247216329169824, 18.879108503408037, 18.514465020751654, 19.04977702778466, 30.904826313289885, 18.968768826222014, 17.6619920789038, 37.48899152610898, 19.622386919542286, 19.956422161222367, 16.654533545328725, 21.127486341920644, 21.21257367623384, 19.39525955123961, 19.137192464605512, 15.894371506407541, 35.34738406288319, 26.842080399327887, 21.91032120597392, 21.431420951603155, 19.54022185555324, 28.8256733025198, 24.222618067068804, 41.71038547039806, 98.68303795678459, 92.3017586564779, 30.904826313289885, 25.90514081616649, 19.39525955123961, 21.431420951603155, 64.53659665435046, 64.44665984538746, 21.21257367623384, 26.73974470858296, 17.81431684361611, 17.6619920789038, 19.137192464605512, 60.54961247434398, 65.87689701743761, 23.20113396958974, 26.842080399327887, 21.91032120597392, 123.01574351358836, 76.5520496690282, 59.878437493234614, 32.186431695508645, 64.75803492234833, 67.6902330374993, 28.8256733025198, 61.42501158114023, 35.34738406288319, 31.64281677109663, 41.05271564704868, 41.71038547039806, 98.68303795678459, 65.09037855047043, 77.8009325018137], \"Category\": [\"Default\", \"Default\", \"Default\", \"Default\", \"Default\", \"Default\", \"Default\", \"Default\", \"Default\", \"Default\", \"Default\", \"Default\", \"Default\", \"Default\", \"Default\", \"Default\", \"Default\", \"Default\", \"Default\", \"Default\", \"Default\", \"Default\", \"Default\", \"Default\", \"Default\", \"Default\", \"Default\", \"Default\", \"Default\", \"Default\", \"Topic1\", \"Topic1\", \"Topic1\", \"Topic1\", \"Topic1\", \"Topic1\", \"Topic1\", \"Topic1\", \"Topic1\", \"Topic1\", \"Topic1\", \"Topic1\", \"Topic1\", \"Topic1\", \"Topic1\", \"Topic1\", \"Topic1\", \"Topic1\", \"Topic1\", \"Topic1\", \"Topic1\", \"Topic1\", \"Topic1\", \"Topic1\", \"Topic1\", \"Topic1\", \"Topic1\", \"Topic1\", \"Topic1\", \"Topic1\", \"Topic1\", \"Topic1\", \"Topic2\", \"Topic2\", \"Topic2\", \"Topic2\", \"Topic2\", \"Topic2\", \"Topic2\", \"Topic2\", \"Topic2\", \"Topic2\", \"Topic2\", \"Topic2\", \"Topic2\", \"Topic2\", \"Topic2\", \"Topic2\", \"Topic2\", \"Topic2\", \"Topic2\", \"Topic2\", \"Topic2\", \"Topic2\", \"Topic2\", \"Topic2\", \"Topic2\", \"Topic2\", \"Topic2\", \"Topic2\", \"Topic2\", \"Topic2\", \"Topic2\", \"Topic2\", \"Topic2\", \"Topic2\", \"Topic2\", \"Topic2\", \"Topic2\", \"Topic2\", \"Topic2\", \"Topic3\", \"Topic3\", \"Topic3\", \"Topic3\", \"Topic3\", \"Topic3\", \"Topic3\", \"Topic3\", \"Topic3\", \"Topic3\", \"Topic3\", \"Topic3\", \"Topic3\", \"Topic3\", \"Topic3\", \"Topic3\", \"Topic3\", \"Topic3\", \"Topic3\", \"Topic3\", \"Topic3\", \"Topic3\", \"Topic3\", \"Topic3\", \"Topic3\", \"Topic3\", \"Topic3\", \"Topic3\", \"Topic3\", \"Topic3\", \"Topic3\", \"Topic3\", \"Topic3\", \"Topic3\", \"Topic3\", \"Topic3\", \"Topic3\", \"Topic3\", \"Topic3\", \"Topic4\", \"Topic4\", \"Topic4\", \"Topic4\", \"Topic4\", \"Topic4\", \"Topic4\", \"Topic4\", \"Topic4\", \"Topic4\", \"Topic4\", \"Topic4\", \"Topic4\", \"Topic4\", \"Topic4\", \"Topic4\", \"Topic4\", \"Topic4\", \"Topic4\", \"Topic4\", \"Topic4\", \"Topic4\", \"Topic4\", \"Topic4\", \"Topic4\", \"Topic4\", \"Topic4\", \"Topic4\", \"Topic4\", \"Topic4\", \"Topic4\", \"Topic4\", \"Topic4\", \"Topic4\", \"Topic4\", \"Topic5\", \"Topic5\", \"Topic5\", \"Topic5\", \"Topic5\", \"Topic5\", \"Topic5\", \"Topic5\", \"Topic5\", \"Topic5\", \"Topic5\", \"Topic5\", \"Topic5\", \"Topic5\", \"Topic5\", \"Topic5\", \"Topic5\", \"Topic5\", \"Topic5\", \"Topic5\", \"Topic5\", \"Topic5\", \"Topic5\", \"Topic5\", \"Topic5\", \"Topic5\", \"Topic5\", \"Topic5\", \"Topic5\", \"Topic5\", \"Topic5\", \"Topic5\", \"Topic5\", \"Topic5\", \"Topic5\", \"Topic5\", \"Topic5\", \"Topic5\", \"Topic6\", \"Topic6\", \"Topic6\", \"Topic6\", \"Topic6\", \"Topic6\", \"Topic6\", \"Topic6\", \"Topic6\", \"Topic6\", \"Topic6\", \"Topic6\", \"Topic6\", \"Topic6\", \"Topic6\", \"Topic6\", \"Topic6\", \"Topic6\", \"Topic6\", \"Topic6\", \"Topic6\", \"Topic6\", \"Topic6\", \"Topic6\", \"Topic6\", \"Topic6\", \"Topic6\", \"Topic6\", \"Topic6\", \"Topic6\", \"Topic6\", \"Topic6\", \"Topic6\", \"Topic6\", \"Topic6\", \"Topic6\", \"Topic6\", \"Topic6\", \"Topic6\", \"Topic6\", \"Topic6\", \"Topic6\", \"Topic7\", \"Topic7\", \"Topic7\", \"Topic7\", \"Topic7\", \"Topic7\", \"Topic7\", \"Topic7\", \"Topic7\", \"Topic7\", \"Topic7\", \"Topic7\", \"Topic7\", \"Topic7\", \"Topic7\", \"Topic7\", \"Topic7\", \"Topic7\", \"Topic7\", \"Topic7\", \"Topic7\", \"Topic7\", \"Topic7\", \"Topic7\", \"Topic7\", \"Topic7\", \"Topic7\", \"Topic7\", \"Topic7\", \"Topic7\", \"Topic7\", \"Topic7\", \"Topic7\", \"Topic8\", \"Topic8\", \"Topic8\", \"Topic8\", \"Topic8\", \"Topic8\", \"Topic8\", \"Topic8\", \"Topic8\", \"Topic8\", \"Topic8\", \"Topic8\", \"Topic8\", \"Topic8\", \"Topic8\", \"Topic8\", \"Topic8\", \"Topic8\", \"Topic8\", \"Topic8\", \"Topic8\", \"Topic8\", \"Topic8\", \"Topic8\", \"Topic8\", \"Topic8\", \"Topic8\", \"Topic8\", \"Topic8\", \"Topic8\", \"Topic8\"], \"logprob\": [30.0, 29.0, 28.0, 27.0, 26.0, 25.0, 24.0, 23.0, 22.0, 21.0, 20.0, 19.0, 18.0, 17.0, 16.0, 15.0, 14.0, 13.0, 12.0, 11.0, 10.0, 9.0, 8.0, 7.0, 6.0, 5.0, 4.0, 3.0, 2.0, 1.0, -4.1596, -4.1991, -3.4124, -3.4522, -3.4326, -3.4345, -2.7587, -3.4627, -3.5238, -3.4859, -3.5104, -3.3752, -3.3836, -3.5334, -3.1988, -3.3538, -3.3481, -4.0677, -3.5927, -3.3724, -3.4123, -3.1762, -3.6069, -3.4184, -3.4383, -3.4303, -4.8653, -4.2575, -4.9368, -4.8999, -4.2239, -4.8608, -3.4486, -3.4978, -3.755, -3.5085, -2.9658, -3.3681, -3.4111, -4.3378, -4.3902, -4.4647, -4.4985, -4.4783, -4.46, -3.8342, -4.5206, -4.456, -4.5872, -3.8784, -4.4997, -4.5817, -4.6757, -4.3193, -3.2754, -3.3128, -3.4845, -3.3181, -3.3466, -3.3399, -4.1811, -3.1698, -3.408, -3.4167, -3.31, -3.5708, -3.5757, -3.9569, -4.0054, -4.219, -4.0865, -3.317, -4.1867, -3.8262, -3.0515, -2.9829, -3.1117, -3.0502, -3.0669, -3.0706, -2.6591, -3.3317, -3.3697, -3.515, -3.6417, -4.6618, -4.8939, -4.9601, -4.9746, -3.7535, -4.9786, -4.3483, -3.6641, -3.5038, -5.2334, -5.0686, -3.714, -5.1197, -4.9117, -5.102, -5.1803, -3.7068, -3.7633, -3.7589, -3.5334, -3.7571, -3.7592, -3.7899, -3.8193, -4.4935, -2.9494, -3.5101, -3.4416, -3.4312, -3.3358, -3.1605, -3.7454, -3.6114, -3.6078, -4.6513, -4.6938, -4.1369, -3.5101, -3.5776, -2.9374, -3.4201, -3.4259, -3.4157, -4.0656, -3.4313, -3.4504, -3.421, -4.662, -3.7087, -4.6994, -3.788, -3.4818, -4.6794, -3.5204, -3.5429, -3.5008, -3.4627, -4.4597, -4.5324, -4.65, -2.3817, -2.949, -2.7467, -2.4439, -2.6001, -2.9637, -2.9552, -2.3686, -3.4225, -4.1756, -3.2913, -4.4948, -4.8881, -4.6245, -3.8356, -3.8432, -4.9784, -4.5719, -4.9615, -4.5137, -4.8145, -5.5808, -5.113, -5.4426, -5.2058, -4.3029, -4.5101, -4.1251, -4.4079, -4.6384, -4.4698, -4.4322, -4.5689, -4.5841, -4.6121, -4.6319, -4.7024, -4.7589, -3.5265, -4.3698, -3.1774, -4.4516, -4.507, -4.514, -4.5247, -3.8397, -4.3419, -3.304, -4.2319, -4.5854, -4.5042, -4.4082, -4.6094, -3.4355, -3.4436, -3.5331, -3.4765, -4.6671, -4.5975, -3.4729, -3.566, -4.6324, -3.6309, -4.7682, -4.6294, -3.0074, -4.2639, -3.7477, -3.4367, -3.6173, -3.4143, -3.6815, -3.7663, -3.8127, -3.8147, -3.9032, -3.9529, -4.0016, -4.0177, -4.1556, -3.3239, -3.3481, -3.314, -3.7282, -3.6925, -3.3977, -3.5448, -3.745, -3.7839, -3.8164, -3.7923, -3.3127, -3.8173, -3.892, -3.177, -3.835, -3.8199, -4.0569, -3.8354, -3.8775, -3.996, -4.0371, -4.2243, -3.4427, -3.7444, -4.0366, -4.1165, -4.2125, -3.9733, -4.6242, -4.1085, -3.3569, -3.7972, -3.0213, -3.3074, -3.6886, -3.6826, -2.5862, -2.5944, -3.7086, -3.637, -4.1895, -4.3264, -4.2732, -3.1849, -3.1996, -4.2732, -4.156, -4.3922, -2.7387, -3.2847, -3.5676, -4.2492, -3.5723, -3.5511, -4.4109, -3.6887, -4.2727, -4.3918, -4.1338, -4.2402, -3.6906, -4.1524, -4.3477], \"loglift\": [30.0, 29.0, 28.0, 27.0, 26.0, 25.0, 24.0, 23.0, 22.0, 21.0, 20.0, 19.0, 18.0, 17.0, 16.0, 15.0, 14.0, 13.0, 12.0, 11.0, 10.0, 9.0, 8.0, 7.0, 6.0, 5.0, 4.0, 3.0, 2.0, 1.0, 0.5864, 0.5512, 0.4, 0.3929, 0.3687, 0.3524, 0.3337, 0.2663, 0.2103, 0.2039, 0.2032, 0.1915, 0.1835, 0.1835, 0.1808, 0.1789, 0.1716, 0.1684, 0.1448, 0.1388, 0.1383, 0.1366, 0.132, 0.1224, 0.11, 0.1042, 0.0603, 0.0231, 0.0208, 0.0112, -0.034, -0.0066, 1.2916, 1.2627, 1.2354, 1.2089, 1.2082, 1.0821, 1.0221, 0.6869, 0.5379, 0.5019, 0.4877, 0.469, 0.4512, 0.4464, 0.4413, 0.3981, 0.3704, 0.3577, 0.3528, 0.3439, 0.2979, 0.2954, 0.2591, 0.2355, 0.2291, 0.2227, 0.1732, 0.1713, 0.1584, 0.143, 0.1426, 0.1161, 0.0696, -0.0037, -0.009, -0.2671, -0.2885, -0.0291, -0.3524, 0.8728, 0.838, 0.7885, 0.7609, 0.734, 0.6896, 0.6787, 0.6671, 0.6191, 0.4333, 0.4058, 0.3692, 0.2719, 0.2034, 0.0886, 0.0728, 0.0135, -0.0272, -0.0398, -0.0674, -0.1122, -0.1158, -0.1242, -0.1414, -0.143, -0.1468, -0.1621, -0.1657, -0.1739, -0.1941, -0.1957, -0.1966, -0.2084, -0.2206, -0.2163, -0.2394, -0.2572, -0.2848, -0.2128, 1.5941, 1.4296, 1.4085, 1.3865, 1.3144, 1.3133, 1.2879, 1.2285, 0.8424, 0.3391, 0.3309, 0.2963, 0.2287, 0.1599, 0.155, 0.1467, 0.1413, 0.1349, 0.1083, 0.1033, 0.0904, 0.0901, 0.0783, 0.0782, 0.0611, 0.057, 0.0509, 0.038, 0.0279, -0.0231, -0.1212, -0.1499, -0.746, -0.7312, -0.4602, 2.2092, 2.1897, 2.1855, 2.1746, 2.1507, 2.1283, 1.9978, 1.9708, 1.2278, 0.6422, 0.4377, 0.2657, 0.1023, 0.0929, -0.0967, -0.1057, -0.1259, -0.1387, -0.2212, -0.3398, -0.3643, -0.5561, -0.5696, -0.6027, -0.732, -0.7357, -0.7964, -0.8123, -0.8968, -0.9487, -0.9501, -1.0526, -1.0361, -1.0432, -1.0638, -1.0974, -1.1357, -1.2084, 0.6475, 0.6163, 0.5566, 0.5104, 0.4667, 0.4437, 0.4419, 0.4409, 0.4042, 0.3858, 0.3828, 0.362, 0.3483, 0.3422, 0.3186, 0.3034, 0.2733, 0.2681, 0.2609, 0.2585, 0.2566, 0.256, 0.2464, 0.2074, 0.156, 0.1429, 0.0881, 0.085, -0.0278, -0.034, -0.057, -0.0667, -0.1015, -0.147, -0.2336, -0.2644, -0.2738, -0.3835, -0.3862, -0.4345, -0.5065, -0.3105, 1.5286, 1.3021, 1.2769, 1.2454, 1.2331, 1.2209, 1.206, 1.2024, 1.1827, 1.1698, 1.1654, 1.161, 1.1446, 1.1413, 1.1037, 1.0931, 1.0912, 1.0352, 1.0187, 0.9726, 0.9437, 0.9159, 0.9145, 0.8968, 0.8704, 0.7812, 0.7233, 0.7198, 0.5701, 0.0932, 0.0654, -0.0441, -0.4176, 1.4525, 1.3429, 1.251, 1.1572, 1.1513, 1.1445, 1.1415, 0.9815, 0.8352, 0.7069, 0.6798, 0.6164, 0.5173, 0.4873, 0.4587, 0.4255, 0.3537, 0.2821, 0.2448, 0.184, 0.1617, 0.1386, 0.1326, 0.0982, 0.0668, 0.0584, 0.056, -0.0663, -0.3778, -0.4234, -0.7972]}, \"token.table\": {\"Topic\": [1, 2, 3, 6, 7, 1, 2, 3, 5, 6, 7, 1, 2, 3, 4, 5, 6, 7, 1, 2, 3, 4, 5, 6, 7, 8, 1, 2, 3, 4, 5, 6, 7, 8, 1, 2, 4, 5, 6, 7, 1, 2, 3, 4, 5, 6, 8, 1, 2, 3, 4, 5, 6, 7, 1, 2, 3, 4, 5, 6, 1, 2, 3, 6, 7, 1, 2, 4, 5, 6, 7, 1, 2, 3, 5, 6, 7, 1, 2, 3, 5, 6, 7, 1, 2, 3, 6, 1, 2, 3, 6, 1, 2, 3, 4, 5, 6, 7, 1, 2, 3, 4, 6, 8, 1, 2, 3, 4, 6, 8, 1, 2, 3, 4, 5, 6, 7, 1, 2, 4, 5, 6, 7, 8, 1, 2, 4, 5, 7, 8, 1, 2, 4, 5, 6, 7, 1, 2, 3, 4, 5, 6, 7, 1, 2, 3, 5, 6, 7, 1, 2, 3, 4, 5, 6, 7, 8, 3, 4, 5, 7, 1, 2, 3, 4, 5, 6, 8, 1, 2, 3, 6, 7, 1, 2, 4, 5, 6, 7, 1, 2, 3, 5, 6, 7, 1, 2, 3, 4, 5, 6, 7, 1, 2, 3, 4, 5, 6, 7, 8, 1, 3, 4, 5, 6, 7, 1, 2, 3, 5, 6, 7, 8, 1, 2, 3, 4, 5, 6, 7, 1, 2, 3, 4, 5, 6, 8, 3, 4, 5, 7, 1, 2, 4, 5, 6, 7, 8, 1, 2, 4, 5, 6, 8, 1, 2, 3, 4, 5, 6, 8, 1, 2, 3, 4, 5, 6, 8, 1, 2, 3, 6, 7, 1, 2, 3, 4, 6, 7, 1, 2, 4, 6, 7, 8, 1, 2, 4, 5, 6, 7, 8, 1, 2, 4, 5, 6, 7, 1, 3, 4, 5, 6, 7, 8, 1, 2, 4, 5, 1, 2, 3, 5, 6, 7, 1, 3, 4, 5, 6, 7, 1, 2, 4, 6, 7, 1, 2, 3, 4, 5, 6, 7, 2, 3, 4, 5, 7, 1, 2, 3, 4, 5, 6, 7, 8, 1, 2, 3, 4, 5, 6, 1, 2, 4, 6, 7, 8, 1, 2, 3, 4, 5, 6, 8, 1, 2, 3, 4, 5, 6, 7, 8, 2, 3, 4, 5, 6, 7, 8, 1, 2, 3, 4, 5, 6, 7, 1, 2, 3, 4, 5, 6, 7, 1, 2, 3, 6, 7, 1, 2, 3, 4, 5, 6, 8, 3, 4, 5, 7, 8], \"Freq\": [0.42671128126637037, 0.26669455079148147, 0.10667782031659259, 0.053338910158296296, 0.10667782031659259, 0.3780827581112475, 0.3240709355239264, 0.10802364517464214, 0.05401182258732107, 0.10802364517464214, 0.10802364517464214, 0.5012793387674477, 0.21850637843709256, 0.08997321465056753, 0.12853316378652505, 0.025706632757305007, 0.03855994913595751, 0.012853316378652503, 0.04794968872726923, 0.6233459534545, 0.04794968872726923, 0.11987422181817307, 0.04794968872726923, 0.07192453309090384, 0.023974844363634614, 0.023974844363634614, 0.6015490203644214, 0.01625808163147085, 0.1707098571304439, 0.12193561223603136, 0.008129040815735424, 0.048774244894412545, 0.008129040815735424, 0.01625808163147085, 0.2428390805146638, 0.06938259443276108, 0.5203694582457081, 0.03469129721638054, 0.03469129721638054, 0.03469129721638054, 0.5404734723956444, 0.12353679369043298, 0.21618938895825773, 0.015442099211304123, 0.015442099211304123, 0.07721049605652061, 0.015442099211304123, 0.6384580641404443, 0.05176687006544142, 0.13804498684117714, 0.12078936348602999, 0.017255623355147142, 0.034511246710294284, 0.017255623355147142, 0.5295608917828774, 0.22695466790694746, 0.10591217835657549, 0.04539093358138949, 0.030260622387592993, 0.04539093358138949, 0.40769759728020943, 0.30577319796015706, 0.10192439932005236, 0.05096219966002618, 0.10192439932005236, 0.09480824737260046, 0.5372467351114026, 0.25282199299360125, 0.06320549824840031, 0.031602749124200157, 0.031602749124200157, 0.4199524219276564, 0.26247026370478527, 0.1049881054819141, 0.05249405274095705, 0.05249405274095705, 0.1049881054819141, 0.3780222695155597, 0.28351670213666974, 0.09450556737888992, 0.09450556737888992, 0.04725278368944496, 0.14175835106833487, 0.7679917892829675, 0.04266621051572042, 0.12799863154716126, 0.04266621051572042, 0.7646581046630304, 0.0424810058146128, 0.0849620116292256, 0.0849620116292256, 0.5102356400673742, 0.2551178200336871, 0.10204712801347483, 0.05102356400673742, 0.02551178200336871, 0.05102356400673742, 0.02551178200336871, 0.6513196007228216, 0.016700502582636452, 0.23380703615691031, 0.033401005165272904, 0.050101507747909356, 0.016700502582636452, 0.6275845285731816, 0.0165153823308732, 0.21469997030135157, 0.0495461469926196, 0.0495461469926196, 0.0330307646617464, 0.517689433380538, 0.20202514473386846, 0.08838600082106746, 0.11363914391280101, 0.025253143091733557, 0.037879714637600335, 0.012626571545866778, 0.19414443359676295, 0.16178702799730246, 0.3882888671935259, 0.03235740559946049, 0.03235740559946049, 0.09707221679838147, 0.06471481119892097, 0.11580712960756442, 0.038602376535854806, 0.3860237653585481, 0.27021663575098365, 0.11580712960756442, 0.038602376535854806, 0.05424155677627532, 0.6508986813153038, 0.16272467032882595, 0.10848311355255064, 0.05424155677627532, 0.05424155677627532, 0.48730985641715713, 0.23083098461865337, 0.1025915487194015, 0.11541549230932668, 0.025647887179850375, 0.03847183076977556, 0.012823943589925188, 0.41564452039102, 0.311733390293265, 0.103911130097755, 0.0519555650488775, 0.0519555650488775, 0.103911130097755, 0.49584269482612786, 0.015495084213316496, 0.17044592634648145, 0.12396067370653197, 0.07747542106658248, 0.06198033685326598, 0.015495084213316496, 0.04648525263994949, 0.12008742211582152, 0.12008742211582152, 0.6604808216370183, 0.06004371105791076, 0.11226925048864361, 0.39294237671025267, 0.22453850097728723, 0.16840387573296542, 0.056134625244321806, 0.056134625244321806, 0.056134625244321806, 0.3707802197723673, 0.3178116169477434, 0.10593720564924779, 0.052968602824623894, 0.10593720564924779, 0.08256745800401506, 0.619255935030113, 0.12385118700602259, 0.08256745800401506, 0.04128372900200753, 0.04128372900200753, 0.4509826424441972, 0.30065509496279813, 0.10021836498759938, 0.05010918249379969, 0.05010918249379969, 0.10021836498759938, 0.5110147794263705, 0.22434795194328463, 0.0872464257557218, 0.09971020086368206, 0.03739132532388077, 0.024927550215920514, 0.012463775107960257, 0.4965346548102025, 0.015516707962818828, 0.1551670796281883, 0.13965037166536945, 0.07758353981409415, 0.06206683185127531, 0.015516707962818828, 0.04655012388845649, 0.051176491617765565, 0.051176491617765565, 0.10235298323553113, 0.7164708826487179, 0.051176491617765565, 0.051176491617765565, 0.33529442823013655, 0.26078455529010625, 0.22352961882009104, 0.037254936470015175, 0.07450987294003035, 0.07450987294003035, 0.037254936470015175, 0.4806714145172227, 0.24033570725861134, 0.07589548650271936, 0.11384322975407905, 0.025298495500906456, 0.03794774325135968, 0.012649247750453228, 0.5225203005398221, 0.18288210518893774, 0.09144105259446887, 0.13063007513495553, 0.026126015026991106, 0.026126015026991106, 0.013063007513495553, 0.06291535337505275, 0.1258307067501055, 0.7549842405006331, 0.06291535337505275, 0.23330230931915788, 0.1866418474553263, 0.3732836949106526, 0.046660461863831576, 0.046660461863831576, 0.046660461863831576, 0.046660461863831576, 0.04310134156850794, 0.6465201235276191, 0.12930402470552382, 0.08620268313701589, 0.04310134156850794, 0.04310134156850794, 0.5684403874116444, 0.015363253713828226, 0.21508555199359516, 0.015363253713828226, 0.12290602971062581, 0.061453014855312904, 0.015363253713828226, 0.41410171609980073, 0.17051247133521208, 0.26794816924104753, 0.0730767734293766, 0.024358924476458866, 0.024358924476458866, 0.024358924476458866, 0.42174587466852215, 0.26359117166782636, 0.10543646866713054, 0.05271823433356527, 0.10543646866713054, 0.4259853659042448, 0.2839902439361632, 0.09466341464538773, 0.047331707322693865, 0.047331707322693865, 0.09466341464538773, 0.20623596139214068, 0.1546769710441055, 0.4640309131323165, 0.05155899034803517, 0.05155899034803517, 0.05155899034803517, 0.18641395407734035, 0.49710387753957425, 0.15534496173111695, 0.06213798469244678, 0.03106899234622339, 0.03106899234622339, 0.03106899234622339, 0.18256236238606066, 0.09128118119303033, 0.4107653153686365, 0.13692177178954548, 0.045640590596515165, 0.045640590596515165, 0.10450853769167166, 0.05225426884583583, 0.10450853769167166, 0.62705122615003, 0.05225426884583583, 0.05225426884583583, 0.05225426884583583, 0.12671102030473005, 0.6757921082918936, 0.12671102030473005, 0.0844740135364867, 0.45346645262944596, 0.293419469348465, 0.08002349164049047, 0.026674497213496823, 0.08002349164049047, 0.08002349164049047, 0.04268382710001061, 0.04268382710001061, 0.08536765420002122, 0.6829412336001698, 0.04268382710001061, 0.08536765420002122, 0.3397125292093548, 0.1132375097364516, 0.39633128407758056, 0.0566187548682258, 0.1132375097364516, 0.49427548060175563, 0.22242396627079003, 0.08649820910530724, 0.12356887015043891, 0.037070661045131674, 0.024713774030087784, 0.012356887015043892, 0.03637739628923595, 0.0727547925784719, 0.0727547925784719, 0.7275479257847189, 0.10913218886770785, 0.4965392332313295, 0.21280252852771261, 0.09120108365473398, 0.09120108365473398, 0.04053381495765955, 0.04053381495765955, 0.03040036121824466, 0.010133453739414888, 0.5227272741660183, 0.1829545459581064, 0.0914772729790532, 0.11761363668735411, 0.03920454556245137, 0.026136363708300914, 0.18856740634360283, 0.18856740634360283, 0.4242766642731064, 0.04714185158590071, 0.09428370317180142, 0.04714185158590071, 0.5318344816460682, 0.14773180045724116, 0.20682452064013765, 0.014773180045724118, 0.029546360091448235, 0.05909272018289647, 0.014773180045724118, 0.6186405020014261, 0.016280013210563844, 0.14652011889507457, 0.1139600924739469, 0.016280013210563844, 0.04884003963169153, 0.016280013210563844, 0.016280013210563844, 0.22632509341477594, 0.056581273353693985, 0.056581273353693985, 0.5941033702137869, 0.028290636676846993, 0.056581273353693985, 0.028290636676846993, 0.5200334283839918, 0.19501253564399695, 0.09750626782199848, 0.09750626782199848, 0.03250208927399949, 0.04333611903199932, 0.02166805951599966, 0.483693958154567, 0.22911819070479492, 0.08910151860742024, 0.11455909535239746, 0.02545757674497721, 0.038186365117465815, 0.012728788372488605, 0.4575412550663955, 0.25418958614799747, 0.10167583445919899, 0.050837917229599495, 0.10167583445919899, 0.5161141696003108, 0.1366184566589058, 0.22769742776484297, 0.015179828517656199, 0.015179828517656199, 0.060719314070624794, 0.030359657035312397, 0.074795029713131, 0.074795029713131, 0.7105527822747445, 0.1121925445696965, 0.0373975148565655], \"Term\": [\"10/2008\", \"10/2008\", \"10/2008\", \"10/2008\", \"10/2008\", \"11.419/2006\", \"11.419/2006\", \"11.419/2006\", \"11.419/2006\", \"11.419/2006\", \"11.419/2006\", \"14/2012\", \"14/2012\", \"14/2012\", \"14/2012\", \"14/2012\", \"14/2012\", \"14/2012\", \"9.099/95\", \"9.099/95\", \"9.099/95\", \"9.099/95\", \"9.099/95\", \"9.099/95\", \"9.099/95\", \"9.099/95\", \"9099/95\", \"9099/95\", \"9099/95\", \"9099/95\", \"9099/95\", \"9099/95\", \"9099/95\", \"9099/95\", \"R$\", \"R$\", \"R$\", \"R$\", \"R$\", \"R$\", \"acordao\", \"acordao\", \"acordao\", \"acordao\", \"acordao\", \"acordao\", \"acordao\", \"aduzir\", \"aduzir\", \"aduzir\", \"aduzir\", \"aduzir\", \"aduzir\", \"aduzir\", \"advocaticio\", \"advocaticio\", \"advocaticio\", \"advocaticio\", \"advocaticio\", \"advocaticio\", \"ano\", \"ano\", \"ano\", \"ano\", \"ano\", \"arbitrar\", \"arbitrar\", \"arbitrar\", \"arbitrar\", \"arbitrar\", \"arbitrar\", \"caderno\", \"caderno\", \"caderno\", \"caderno\", \"caderno\", \"caderno\", \"capital\", \"capital\", \"capital\", \"capital\", \"capital\", \"capital\", \"civil\", \"civil\", \"civil\", \"civil\", \"codigo\", \"codigo\", \"codigo\", \"codigo\", \"condenacao\", \"condenacao\", \"condenacao\", \"condenacao\", \"condenacao\", \"condenacao\", \"condenacao\", \"condenar\", \"condenar\", \"condenar\", \"condenar\", \"condenar\", \"condenar\", \"conforme\", \"conforme\", \"conforme\", \"conforme\", \"conforme\", \"conforme\", \"conformidade\", \"conformidade\", \"conformidade\", \"conformidade\", \"conformidade\", \"conformidade\", \"conformidade\", \"dano\", \"dano\", \"dano\", \"dano\", \"dano\", \"dano\", \"dano\", \"dar ela\", \"dar ela\", \"dar ela\", \"dar ela\", \"dar ela\", \"dar ela\", \"deduzir\", \"deduzir\", \"deduzir\", \"deduzir\", \"deduzir\", \"deduzir\", \"dispensar\", \"dispensar\", \"dispensar\", \"dispensar\", \"dispensar\", \"dispensar\", \"dispensar\", \"disponibilizacao\", \"disponibilizacao\", \"disponibilizacao\", \"disponibilizacao\", \"disponibilizacao\", \"disponibilizacao\", \"especial\", \"especial\", \"especial\", \"especial\", \"especial\", \"especial\", \"especial\", \"especial\", \"fazendar\", \"fazendar\", \"fazendar\", \"fazendar\", \"gratuidade\", \"gratuidade\", \"gratuidade\", \"gratuidade\", \"gratuidade\", \"gratuidade\", \"gratuidade\", \"iii\", \"iii\", \"iii\", \"iii\", \"iii\", \"inciso\", \"inciso\", \"inciso\", \"inciso\", \"inciso\", \"inciso\", \"instancia\", \"instancia\", \"instancia\", \"instancia\", \"instancia\", \"instancia\", \"interno\", \"interno\", \"interno\", \"interno\", \"interno\", \"interno\", \"interno\", \"juizado\", \"juizado\", \"juizado\", \"juizado\", \"juizado\", \"juizado\", \"juizado\", \"juizado\", \"julgamento\", \"julgamento\", \"julgamento\", \"julgamento\", \"julgamento\", \"julgamento\", \"justica\", \"justica\", \"justica\", \"justica\", \"justica\", \"justica\", \"justica\", \"magistratura\", \"magistratura\", \"magistratura\", \"magistratura\", \"magistratura\", \"magistratura\", \"magistratura\", \"mesmo\", \"mesmo\", \"mesmo\", \"mesmo\", \"mesmo\", \"mesmo\", \"mesmo\", \"ministerio\", \"ministerio\", \"ministerio\", \"ministerio\", \"moral\", \"moral\", \"moral\", \"moral\", \"moral\", \"moral\", \"moral\", \"negar\", \"negar\", \"negar\", \"negar\", \"negar\", \"negar\", \"negar-lhe\", \"negar-lhe\", \"negar-lhe\", \"negar-lhe\", \"negar-lhe\", \"negar-lhe\", \"negar-lhe\", \"observar\", \"observar\", \"observar\", \"observar\", \"observar\", \"observar\", \"observar\", \"oe\", \"oe\", \"oe\", \"oe\", \"oe\", \"oficial\", \"oficial\", \"oficial\", \"oficial\", \"oficial\", \"oficial\", \"onu\", \"onu\", \"onu\", \"onu\", \"onu\", \"onu\", \"pagamento\", \"pagamento\", \"pagamento\", \"pagamento\", \"pagamento\", \"pagamento\", \"pagamento\", \"parcial\", \"parcial\", \"parcial\", \"parcial\", \"parcial\", \"parcial\", \"presente\", \"presente\", \"presente\", \"presente\", \"presente\", \"presente\", \"presente\", \"processual\", \"processual\", \"processual\", \"processual\", \"publicacao\", \"publicacao\", \"publicacao\", \"publicacao\", \"publicacao\", \"publicacao\", \"publico\", \"publico\", \"publico\", \"publico\", \"publico\", \"publico\", \"real\", \"real\", \"real\", \"real\", \"real\", \"regimento\", \"regimento\", \"regimento\", \"regimento\", \"regimento\", \"regimento\", \"regimento\", \"relator\", \"relator\", \"relator\", \"relator\", \"relator\", \"resolucao\", \"resolucao\", \"resolucao\", \"resolucao\", \"resolucao\", \"resolucao\", \"resolucao\", \"resolucao\", \"rj\", \"rj\", \"rj\", \"rj\", \"rj\", \"rj\", \"sucumbencial\", \"sucumbencial\", \"sucumbencial\", \"sucumbencial\", \"sucumbencial\", \"sucumbencial\", \"sumula\", \"sumula\", \"sumula\", \"sumula\", \"sumula\", \"sumula\", \"sumula\", \"ter\", \"ter\", \"ter\", \"ter\", \"ter\", \"ter\", \"ter\", \"ter\", \"termos\", \"termos\", \"termos\", \"termos\", \"termos\", \"termos\", \"termos\", \"tj\", \"tj\", \"tj\", \"tj\", \"tj\", \"tj\", \"tj\", \"transcricao\", \"transcricao\", \"transcricao\", \"transcricao\", \"transcricao\", \"transcricao\", \"transcricao\", \"tribunal\", \"tribunal\", \"tribunal\", \"tribunal\", \"tribunal\", \"valer\", \"valer\", \"valer\", \"valer\", \"valer\", \"valer\", \"valer\", \"voto\", \"voto\", \"voto\", \"voto\", \"voto\"]}, \"R\": 30, \"lambda.step\": 0.01, \"plot.opts\": {\"xlab\": \"PC1\", \"ylab\": \"PC2\"}, \"topic.order\": [5, 4, 2, 3, 1, 6, 7, 8]};\n",
       "\n",
       "function LDAvis_load_lib(url, callback){\n",
       "  var s = document.createElement('script');\n",
       "  s.src = url;\n",
       "  s.async = true;\n",
       "  s.onreadystatechange = s.onload = callback;\n",
       "  s.onerror = function(){console.warn(\"failed to load library \" + url);};\n",
       "  document.getElementsByTagName(\"head\")[0].appendChild(s);\n",
       "}\n",
       "\n",
       "if(typeof(LDAvis) !== \"undefined\"){\n",
       "   // already loaded: just create the visualization\n",
       "   !function(LDAvis){\n",
       "       new LDAvis(\"#\" + \"ldavis_el1488811168050528430127331\", ldavis_el1488811168050528430127331_data);\n",
       "   }(LDAvis);\n",
       "}else if(typeof define === \"function\" && define.amd){\n",
       "   // require.js is available: use it to load d3/LDAvis\n",
       "   require.config({paths: {d3: \"https://d3js.org/d3.v5\"}});\n",
       "   require([\"d3\"], function(d3){\n",
       "      window.d3 = d3;\n",
       "      LDAvis_load_lib(\"https://cdn.jsdelivr.net/gh/bmabey/pyLDAvis@3.4.0/pyLDAvis/js/ldavis.v3.0.0.js\", function(){\n",
       "        new LDAvis(\"#\" + \"ldavis_el1488811168050528430127331\", ldavis_el1488811168050528430127331_data);\n",
       "      });\n",
       "    });\n",
       "}else{\n",
       "    // require.js not available: dynamically load d3 & LDAvis\n",
       "    LDAvis_load_lib(\"https://d3js.org/d3.v5.js\", function(){\n",
       "         LDAvis_load_lib(\"https://cdn.jsdelivr.net/gh/bmabey/pyLDAvis@3.4.0/pyLDAvis/js/ldavis.v3.0.0.js\", function(){\n",
       "                 new LDAvis(\"#\" + \"ldavis_el1488811168050528430127331\", ldavis_el1488811168050528430127331_data);\n",
       "            })\n",
       "         });\n",
       "}\n",
       "</script>"
      ],
      "text/plain": [
       "PreparedData(topic_coordinates=              x         y  topics  cluster       Freq\n",
       "topic                                                \n",
       "4      0.114145  0.003656       1        1  43.276092\n",
       "3      0.040106 -0.123193       2        1  18.411410\n",
       "1      0.102016  0.069995       3        1  10.853514\n",
       "2     -0.004693 -0.021744       4        1  10.739391\n",
       "0     -0.201951  0.054235       5        1   8.175461\n",
       "5      0.048032 -0.004960       6        1   4.388185\n",
       "6     -0.119655 -0.056389       7        1   2.786194\n",
       "7      0.022000  0.078400       8        1   1.369752, topic_info=         Term        Freq       Total Category  logprob  loglift\n",
       "3     9099/95  123.000000  123.000000  Default  30.0000  30.0000\n",
       "15   especial   64.000000   64.000000  Default  29.0000  29.0000\n",
       "19    juizado   64.000000   64.000000  Default  28.0000  28.0000\n",
       "43   conforme   60.000000   60.000000  Default  27.0000  27.0000\n",
       "48      valer   65.000000   65.000000  Default  26.0000  26.0000\n",
       "..        ...         ...         ...      ...      ...      ...\n",
       "45   observar    0.594715   41.052716   Topic8  -4.1338   0.0560\n",
       "52   9.099/95    0.534685   41.710385   Topic8  -4.2402  -0.0663\n",
       "33  resolucao    0.926446   98.683038   Topic8  -3.6906  -0.3778\n",
       "44  negar-lhe    0.583797   65.090379   Topic8  -4.1524  -0.4234\n",
       "2     14/2012    0.480199   77.800933   Topic8  -4.3477  -0.7972\n",
       "\n",
       "[319 rows x 6 columns], token_table=      Topic      Freq     Term\n",
       "term                          \n",
       "0         1  0.426711  10/2008\n",
       "0         2  0.266695  10/2008\n",
       "0         3  0.106678  10/2008\n",
       "0         6  0.053339  10/2008\n",
       "0         7  0.106678  10/2008\n",
       "...     ...       ...      ...\n",
       "59        3  0.074795     voto\n",
       "59        4  0.074795     voto\n",
       "59        5  0.710553     voto\n",
       "59        7  0.112193     voto\n",
       "59        8  0.037398     voto\n",
       "\n",
       "[401 rows x 3 columns], R=30, lambda_step=0.01, plot_opts={'xlab': 'PC1', 'ylab': 'PC2'}, topic_order=[5, 4, 2, 3, 1, 6, 7, 8])"
      ]
     },
     "execution_count": 169,
     "metadata": {},
     "output_type": "execute_result"
    }
   ],
   "source": [
    "pyLDAvis.gensim.prepare(chosen_model, corpus, dictionary)"
   ]
  },
  {
   "cell_type": "markdown",
   "metadata": {},
   "source": [
    "# Exibição dos Tópicos e suas Palavras mais Relevantes\n",
    "Listamos os tópicos gerados pelo modelo LDA escolhido, juntamente com as palavras mais relevantes para cada tópico. Isso fornece uma visão geral dos temas abordados no corpus.\n",
    "\n"
   ]
  },
  {
   "cell_type": "code",
   "execution_count": 172,
   "metadata": {},
   "outputs": [
    {
     "name": "stdout",
     "output_type": "stream",
     "text": [
      "Topic: 0 \n",
      "Words: 0.094*\"termos\" + 0.092*\"relator\" + 0.087*\"voto\" + 0.074*\"publico\" + 0.064*\"julgamento\" + 0.052*\"ministerio\" + 0.052*\"presente\" + 0.052*\"fazendar\" + 0.037*\"negar-lhe\" + 0.033*\"dar ela\" + 0.022*\"juizado\" + 0.021*\"especial\" + 0.016*\"resolucao\" + 0.015*\"parcial\" + 0.014*\"rj\" + 0.012*\"regimento\" + 0.012*\"tj\" + 0.011*\"interno\" + 0.011*\"negar\" + 0.011*\"advocaticio\" + 0.011*\"9.099/95\" + 0.010*\"conformidade\" + 0.010*\"pagamento\" + 0.010*\"transcricao\" + 0.010*\"dispensar\"\n",
      "Topic: 1 \n",
      "Words: 0.070*\"9099/95\" + 0.051*\"valer\" + 0.047*\"negar-lhe\" + 0.047*\"condenar\" + 0.047*\"acordao\" + 0.046*\"sumula\" + 0.045*\"conforme\" + 0.036*\"observar\" + 0.036*\"especial\" + 0.034*\"juizado\" + 0.030*\"tj\" + 0.030*\"ter\" + 0.029*\"resolucao\" + 0.026*\"aduzir\" + 0.026*\"dispensar\" + 0.025*\"regimento\" + 0.024*\"rj\" + 0.023*\"advocaticio\" + 0.023*\"transcricao\" + 0.023*\"14/2012\" + 0.023*\"interno\" + 0.023*\"mesmo\" + 0.023*\"conformidade\" + 0.022*\"magistratura\" + 0.022*\"justica\"\n",
      "Topic: 2 \n",
      "Words: 0.053*\"9099/95\" + 0.052*\"R$\" + 0.042*\"dano\" + 0.036*\"dar ela\" + 0.033*\"14/2012\" + 0.033*\"mesmo\" + 0.033*\"regimento\" + 0.033*\"rj\" + 0.032*\"parcial\" + 0.032*\"magistratura\" + 0.032*\"sucumbencial\" + 0.032*\"transcricao\" + 0.031*\"resolucao\" + 0.031*\"conformidade\" + 0.030*\"tj\" + 0.030*\"onu\" + 0.030*\"juizado\" + 0.030*\"dispensar\" + 0.029*\"interno\" + 0.028*\"especial\" + 0.027*\"arbitrar\" + 0.027*\"moral\" + 0.025*\"ter\" + 0.024*\"real\" + 0.023*\"aduzir\"\n",
      "Topic: 3 \n",
      "Words: 0.052*\"9.099/95\" + 0.042*\"resolucao\" + 0.038*\"magistratura\" + 0.037*\"tj\" + 0.036*\"dispensar\" + 0.036*\"transcricao\" + 0.035*\"regimento\" + 0.035*\"interno\" + 0.034*\"arbitrar\" + 0.033*\"14/2012\" + 0.033*\"pagamento\" + 0.033*\"conformidade\" + 0.032*\"processual\" + 0.031*\"advocaticio\" + 0.030*\"negar\" + 0.030*\"inciso\" + 0.028*\"rj\" + 0.028*\"mesmo\" + 0.023*\"deduzir\" + 0.022*\"publicacao\" + 0.021*\"condenacao\" + 0.019*\"sumula\" + 0.018*\"valer\" + 0.017*\"acordao\" + 0.015*\"termos\"\n",
      "Topic: 4 \n",
      "Words: 0.063*\"9099/95\" + 0.042*\"resolucao\" + 0.041*\"tj\" + 0.035*\"interno\" + 0.035*\"conformidade\" + 0.034*\"regimento\" + 0.034*\"mesmo\" + 0.034*\"rj\" + 0.033*\"14/2012\" + 0.033*\"condenar\" + 0.033*\"transcricao\" + 0.032*\"magistratura\" + 0.032*\"conforme\" + 0.032*\"ter\" + 0.032*\"dispensar\" + 0.032*\"aduzir\" + 0.031*\"negar-lhe\" + 0.031*\"sumula\" + 0.030*\"advocaticio\" + 0.029*\"acordao\" + 0.029*\"valer\" + 0.028*\"especial\" + 0.027*\"juizado\" + 0.017*\"condenacao\" + 0.016*\"codigo\"\n",
      "Topic: 5 \n",
      "Words: 0.049*\"9099/95\" + 0.042*\"acordao\" + 0.037*\"sumula\" + 0.033*\"resolucao\" + 0.032*\"juizado\" + 0.032*\"tj\" + 0.032*\"valer\" + 0.031*\"negar-lhe\" + 0.031*\"especial\" + 0.029*\"9.099/95\" + 0.029*\"conforme\" + 0.028*\"condenar\" + 0.027*\"14/2012\" + 0.026*\"ter\" + 0.025*\"magistratura\" + 0.024*\"advocaticio\" + 0.023*\"conformidade\" + 0.022*\"dispensar\" + 0.022*\"transcricao\" + 0.021*\"publicacao\" + 0.020*\"interno\" + 0.019*\"mesmo\" + 0.018*\"rj\" + 0.018*\"regimento\" + 0.016*\"aduzir\"\n",
      "Topic: 6 \n",
      "Words: 0.042*\"publicacao\" + 0.036*\"dano\" + 0.036*\"relator\" + 0.036*\"capital\" + 0.035*\"dar ela\" + 0.035*\"resolucao\" + 0.033*\"voto\" + 0.032*\"termos\" + 0.029*\"publico\" + 0.025*\"tribunal\" + 0.024*\"10/2008\" + 0.024*\"justica\" + 0.024*\"disponibilizacao\" + 0.023*\"iii\" + 0.023*\"caderno\" + 0.022*\"tj\" + 0.022*\"11.419/2006\" + 0.022*\"oe\" + 0.022*\"instancia\" + 0.022*\"ano\" + 0.022*\"oficial\" + 0.021*\"sucumbencial\" + 0.020*\"real\" + 0.019*\"R$\" + 0.018*\"onu\"\n",
      "Topic: 7 \n",
      "Words: 0.075*\"especial\" + 0.075*\"juizado\" + 0.065*\"9099/95\" + 0.049*\"dano\" + 0.041*\"conforme\" + 0.041*\"valer\" + 0.037*\"mesmo\" + 0.037*\"dar ela\" + 0.029*\"sumula\" + 0.028*\"condenar\" + 0.028*\"acordao\" + 0.026*\"voto\" + 0.025*\"moral\" + 0.025*\"onu\" + 0.025*\"ter\" + 0.025*\"resolucao\" + 0.025*\"sucumbencial\" + 0.016*\"observar\" + 0.016*\"negar-lhe\" + 0.016*\"justica\" + 0.015*\"gratuidade\" + 0.014*\"9.099/95\" + 0.014*\"pagamento\" + 0.014*\"termos\" + 0.014*\"negar\"\n"
     ]
    }
   ],
   "source": [
    "for idx, topic in chosen_model.print_topics(-1, num_words=25):\n",
    "    print('Topic: {} \\nWords: {}'.format(idx, topic))"
   ]
  },
  {
   "cell_type": "markdown",
   "metadata": {},
   "source": [
    "# Mapeamento dos Números de Tópicos para Nomes Descritivos\n",
    "Definimos um dicionário para mapear os identificadores numéricos dos tópicos para nomes descritivos mais informativos, facilitando a interpretação dos resultados.\n",
    "\n"
   ]
  },
  {
   "cell_type": "code",
   "execution_count": 175,
   "metadata": {},
   "outputs": [],
   "source": [
    "# Dicionário mapeando números de tópicos para nomes descritivos\n",
    "topic_names = {\n",
    "    0: \"Processo e Julgamento\",\n",
    "    1: \"Procedimentos Judiciais e Sumulação\",\n",
    "    2: \"Decisões e Indenizações Morais\",\n",
    "    3: \"Conformidade Regulamentar e Arbitragem\",\n",
    "    4: \"Legislação Específica e Condenações\",\n",
    "    5: \"Sumulação e Acordos\",\n",
    "    6: \"Publicações e Decisões de Julgamento\",\n",
    "    7: \"Juizados Especiais e Indenizações Morais\"\n",
    "}"
   ]
  },
  {
   "cell_type": "markdown",
   "metadata": {},
   "source": [
    "# Associação dos Documentos aos Tópicos e Criação de um DataFrame\n",
    "Nesta célula, iteramos sobre os documentos, associamos cada um a seus tópicos correspondentes usando o modelo LDA e o mapeamento de nomes de tópicos, e compilamos os resultados em um DataFrame do pandas.\n",
    "\n"
   ]
  },
  {
   "cell_type": "code",
   "execution_count": 179,
   "metadata": {},
   "outputs": [
    {
     "data": {
      "text/html": [
       "<div>\n",
       "<style scoped>\n",
       "    .dataframe tbody tr th:only-of-type {\n",
       "        vertical-align: middle;\n",
       "    }\n",
       "\n",
       "    .dataframe tbody tr th {\n",
       "        vertical-align: top;\n",
       "    }\n",
       "\n",
       "    .dataframe thead th {\n",
       "        text-align: right;\n",
       "    }\n",
       "</style>\n",
       "<table border=\"1\" class=\"dataframe\">\n",
       "  <thead>\n",
       "    <tr style=\"text-align: right;\">\n",
       "      <th></th>\n",
       "      <th>Document</th>\n",
       "      <th>Topics</th>\n",
       "    </tr>\n",
       "  </thead>\n",
       "  <tbody>\n",
       "    <tr>\n",
       "      <th>0</th>\n",
       "      <td>0</td>\n",
       "      <td>{'Decisões e Indenizações Morais': 0.21756887,...</td>\n",
       "    </tr>\n",
       "    <tr>\n",
       "      <th>1</th>\n",
       "      <td>1</td>\n",
       "      <td>{'Legislação Específica e Condenações': 0.9756...</td>\n",
       "    </tr>\n",
       "    <tr>\n",
       "      <th>2</th>\n",
       "      <td>2</td>\n",
       "      <td>{'Legislação Específica e Condenações': 0.9738...</td>\n",
       "    </tr>\n",
       "    <tr>\n",
       "      <th>3</th>\n",
       "      <td>3</td>\n",
       "      <td>{'Processo e Julgamento': 0.0108223185, 'Proce...</td>\n",
       "    </tr>\n",
       "    <tr>\n",
       "      <th>4</th>\n",
       "      <td>4</td>\n",
       "      <td>{'Legislação Específica e Condenações': 0.9738...</td>\n",
       "    </tr>\n",
       "  </tbody>\n",
       "</table>\n",
       "</div>"
      ],
      "text/plain": [
       "   Document                                             Topics\n",
       "0         0  {'Decisões e Indenizações Morais': 0.21756887,...\n",
       "1         1  {'Legislação Específica e Condenações': 0.9756...\n",
       "2         2  {'Legislação Específica e Condenações': 0.9738...\n",
       "3         3  {'Processo e Julgamento': 0.0108223185, 'Proce...\n",
       "4         4  {'Legislação Específica e Condenações': 0.9738..."
      ]
     },
     "execution_count": 179,
     "metadata": {},
     "output_type": "execute_result"
    }
   ],
   "source": [
    "data = []\n",
    "\n",
    "for i, doc in enumerate(corpus):\n",
    "    # Obtenha os tópicos para o documento\n",
    "    doc_topics = chosen_model.get_document_topics(doc)\n",
    "    \n",
    "    # Converte os tópicos em um dicionário, usando o mapeamento para nomes descritivos\n",
    "    topic_dict = {topic_names[topic]: perc for topic, perc in doc_topics}\n",
    "    \n",
    "    # Adiciona os dados à lista\n",
    "    data.append({'Document': i, 'Topics': topic_dict})\n",
    "\n",
    "# Cria um DataFrame a partir da lista\n",
    "df = pd.DataFrame(data)\n",
    "\n",
    "# Exibe o DataFrame para verificar\n",
    "df.head()"
   ]
  },
  {
   "cell_type": "markdown",
   "metadata": {},
   "source": [
    "# Exportação dos Tópicos para Excel\n",
    "Finalmente, exportamos o DataFrame contendo a associação de documentos a tópicos para um arquivo Excel, facilitando a análise posterior e compartilhamento dos resultados.\n",
    "\n"
   ]
  },
  {
   "cell_type": "code",
   "execution_count": 182,
   "metadata": {},
   "outputs": [],
   "source": [
    "df.to_excel('topics.xlsx')"
   ]
  },
  {
   "cell_type": "code",
   "execution_count": null,
   "metadata": {},
   "outputs": [],
   "source": []
  }
 ],
 "metadata": {
  "kernelspec": {
   "display_name": ".venv",
   "language": "python",
   "name": "python3"
  },
  "language_info": {
   "codemirror_mode": {
    "name": "ipython",
    "version": 3
   },
   "file_extension": ".py",
   "mimetype": "text/x-python",
   "name": "python",
   "nbconvert_exporter": "python",
   "pygments_lexer": "ipython3",
   "version": "3.9.19"
  }
 },
 "nbformat": 4,
 "nbformat_minor": 2
}
