{
 "cells": [
  {
   "cell_type": "code",
   "execution_count": 68,
   "metadata": {},
   "outputs": [],
   "source": [
    "# Importação das bibliotecas necessárias\n",
    "import spacy\n",
    "import re\n",
    "from spacy.lang.pt.stop_words import STOP_WORDS\n",
    "from sklearn.feature_extraction.text import TfidfVectorizer\n",
    "import pandas as pd\n",
    "import matplotlib.pyplot as plt\n",
    "from sklearn.decomposition import LatentDirichletAllocation as LDA\n",
    "from sklearn.decomposition import TruncatedSVD\n",
    "from gensim.matutils import corpus2dense\n",
    "from gensim.models.coherencemodel import CoherenceModel\n",
    "from gensim.models.ldamodel import LdaModel\n",
    "from gensim.corpora import Dictionary\n",
    "from sklearn.decomposition import NMF\n",
    "from scipy.spatial.distance import cosine\n",
    "import seaborn as sns\n",
    "import matplotlib.pyplot as plt\n",
    "import numpy as np\n",
    "import warnings\n"
   ]
  },
  {
   "cell_type": "code",
   "execution_count": 3,
   "metadata": {},
   "outputs": [],
   "source": [
    "path = \"data/sentenças_educacao.xlsx\""
   ]
  },
  {
   "cell_type": "markdown",
   "metadata": {},
   "source": [
    "# Part 1 - LLM"
   ]
  },
  {
   "cell_type": "markdown",
   "metadata": {},
   "source": [
    "## Input de Docs com prompt\n",
    "Input dos docs em um modelo LLM com prompt dedicado a clusterizar os textos da melhor forma possível explicando cada tópico e dando output do número de tópicos."
   ]
  },
  {
   "cell_type": "code",
   "execution_count": 4,
   "metadata": {},
   "outputs": [],
   "source": [
    "# Will be applied after due to cost of running an LLM locally\n",
    "\n",
    "# Will be assumed a that the LLM will output 8 clusters of topics"
   ]
  },
  {
   "cell_type": "code",
   "execution_count": 4,
   "metadata": {},
   "outputs": [],
   "source": [
    "# Output do LLM será inserido aqui\n",
    "llm_guess = 8"
   ]
  },
  {
   "cell_type": "markdown",
   "metadata": {},
   "source": [
    "# Part 2 - NLP "
   ]
  },
  {
   "cell_type": "markdown",
   "metadata": {},
   "source": [
    "### Settando Variáveis"
   ]
  },
  {
   "cell_type": "code",
   "execution_count": 5,
   "metadata": {},
   "outputs": [],
   "source": [
    "# Palavras personalizadas para remoção\n",
    "custom_words = {\n",
    "    \"alguns\", \"pouco\", \"muito\", \"toda\", \"todo\", \"algum\", \"certo\",\n",
    "    \"vários\", \"nenhum\", \"tanto\", \"quanto\", \"tudo\", \"nada\", \"exmo\",\n",
    "    \"provimento\", \"termos\", \"voto\", \"exmo\", \"relator\", \"juizes\", \"que\",\n",
    "    \"turma\", \"recursal\", \"jecs\", \"unanimidade\", \"conhecer\", \"recurso\",\n",
    "    \"nos\", \"termos\", \"do\", \"voto\", \"do\", \"exmo\", \"relator\", \"integram\",\n",
    "    'ilustre', 'dr', 'art', 'lei', 'nao', 'artigo', 'vi', 'vii', 'iv', 'iii',\n",
    "    'ii', 'i', 'v', 'vi', 'vii', 'viii', 'ix', 'x', 'xi', 'xii', 'xiii', 'xiv',\n",
    "    ''\n",
    "}"
   ]
  },
  {
   "cell_type": "code",
   "execution_count": 6,
   "metadata": {},
   "outputs": [],
   "source": [
    "# Carregar o modelo de linguagem Português\n",
    "nlp = spacy.load(\"pt_core_news_sm\")\n",
    "nlp.Defaults.stop_words |= custom_words  # Adicionando stopwords personalizadas\n"
   ]
  },
  {
   "cell_type": "code",
   "execution_count": 7,
   "metadata": {},
   "outputs": [],
   "source": [
    "df = pd.read_excel(path)\n",
    "docs = df.iloc[:, 2].tolist()"
   ]
  },
  {
   "cell_type": "markdown",
   "metadata": {},
   "source": [
    "### Dividindo Dataset em Batches"
   ]
  },
  {
   "cell_type": "code",
   "execution_count": 8,
   "metadata": {},
   "outputs": [],
   "source": [
    "def separar_docs(docs, n):\n",
    "    \"\"\"\n",
    "    Separa os docs em n subcorpora.\n",
    "    \"\"\"\n",
    "    np.random.shuffle(docs)\n",
    "    tamanho_subcorpus = len(docs) // n\n",
    "    batches = [\n",
    "        docs[i * tamanho_subcorpus: (i + 1) * tamanho_subcorpus]\n",
    "        for i in range(n)\n",
    "    ]\n",
    "    return batches"
   ]
  },
  {
   "cell_type": "code",
   "execution_count": 9,
   "metadata": {},
   "outputs": [],
   "source": [
    "batched_docs = separar_docs(docs, 3)"
   ]
  },
  {
   "cell_type": "markdown",
   "metadata": {},
   "source": [
    "### Pré-Processamento"
   ]
  },
  {
   "cell_type": "code",
   "execution_count": 10,
   "metadata": {},
   "outputs": [],
   "source": [
    "#Carregar e preprocessar o corpus\n",
    "def preprocessar(docs, nlp):\n",
    "    def limpar_texto(texto):\n",
    "        texto = re.sub(r\"<.*?>\", \"\", texto)\n",
    "        texto = re.sub(r\"[^\\w\\s]\", \"\", texto)\n",
    "        texto = re.sub(r\"\\s+\", \" \", texto)\n",
    "        texto = re.sub(r\"[^\\x00-\\x7F]+\", \" \", texto)\n",
    "        texto = re.sub(r\"\\d[a|o]\", \"\", texto)\n",
    "        texto = re.sub(r'(\\w+?)(lhe|lhes)\\b', r'\\1', texto)\n",
    "        return texto\n",
    "\n",
    "    def preprocessar_texto(texto):\n",
    "        texto_limpo = limpar_texto(texto)\n",
    "        doc = nlp(texto_limpo)\n",
    "        tokens = [\n",
    "            token.lower_\n",
    "            for token in doc\n",
    "            if not token.is_stop \n",
    "            and not token.is_punct\n",
    "            and not token.like_num\n",
    "            ]\n",
    "        return tokens\n",
    "\n",
    "    corpus_preprocessado = [preprocessar_texto(doc) for doc in docs]\n",
    "    return corpus_preprocessado"
   ]
  },
  {
   "cell_type": "code",
   "execution_count": 38,
   "metadata": {},
   "outputs": [],
   "source": [
    "def create_dictionary(processed_docs):\n",
    "    dictionary = Dictionary([word for doc in batch for word in doc] for batch in processed_docs)\n",
    "    return dictionary"
   ]
  },
  {
   "cell_type": "code",
   "execution_count": 39,
   "metadata": {},
   "outputs": [],
   "source": [
    "processed_docs = [preprocessar(batch, nlp) for batch in batched_docs]\n",
    "dictionary = create_dictionary(processed_docs)"
   ]
  },
  {
   "cell_type": "markdown",
   "metadata": {},
   "source": [
    "### Aplicando BOW"
   ]
  },
  {
   "cell_type": "code",
   "execution_count": 40,
   "metadata": {},
   "outputs": [],
   "source": [
    "#Doc to Bow (Bag of Words)\n",
    "def doc_to_bow(corpus_preprocessado, dictionary):\n",
    "    bow_corpus = [dictionary.doc2bow(doc) for doc in corpus_preprocessado]\n",
    "    return bow_corpus"
   ]
  },
  {
   "cell_type": "markdown",
   "metadata": {},
   "source": [
    "### Aplicando TF-IDF"
   ]
  },
  {
   "cell_type": "code",
   "execution_count": 42,
   "metadata": {},
   "outputs": [],
   "source": [
    "#Vetorizar TF-IDF o corpus\n",
    "def vetorizar_corpus(corpus_preprocessado, dictionary):\n",
    "    corpus_texto = [' '.join(doc) for doc in corpus_preprocessado]\n",
    "    tfidf_vectorizer = TfidfVectorizer(\n",
    "        max_df=0.80, \n",
    "        min_df=3,\n",
    "        vocabulary=dictionary.token2id,\n",
    "    )\n",
    "    tfidf_matrix = tfidf_vectorizer.fit_transform(corpus_texto)\n",
    "    return tfidf_matrix, tfidf_vectorizer"
   ]
  },
  {
   "cell_type": "code",
   "execution_count": 20,
   "metadata": {},
   "outputs": [],
   "source": [
    "tfidf_vectorizer = TfidfVectorizer(max_df=0.80, min_df=3)"
   ]
  },
  {
   "cell_type": "code",
   "execution_count": 23,
   "metadata": {},
   "outputs": [],
   "source": [
    "tfidf_matrices = [vetorizar_corpus(batch) for batch in processed_docs]"
   ]
  },
  {
   "cell_type": "markdown",
   "metadata": {},
   "source": [
    "### Confronto de Bag of Words"
   ]
  },
  {
   "cell_type": "markdown",
   "metadata": {},
   "source": [
    "A similaridade do cosseno é uma medida que calcula o cosseno do ângulo entre dois vetores. É útil para medir a similaridade entre documentos representados como vetores BoW."
   ]
  },
  {
   "cell_type": "code",
   "execution_count": 43,
   "metadata": {},
   "outputs": [],
   "source": [
    "# Gerar BoW e TF-IDF para cada batch\n",
    "bow_results = [doc_to_bow(batch, dictionary) for batch in processed_docs]\n",
    "tfidf_results = [vetorizar_corpus(batch, dictionary) for batch in processed_docs]"
   ]
  },
  {
   "cell_type": "code",
   "execution_count": 78,
   "metadata": {},
   "outputs": [
    {
     "name": "stderr",
     "output_type": "stream",
     "text": [
      "/Users/etorebraga/Library/Caches/pypoetry/virtualenvs/topic-modeling-paper-aq0E2InM-py3.12/lib/python3.12/site-packages/scipy/spatial/distance.py:636: RuntimeWarning: invalid value encountered in scalar divide\n",
      "  dist = 1.0 - uv / np.sqrt(uu * vv)\n"
     ]
    }
   ],
   "source": [
    "distances_data = []\n",
    "\n",
    "# Comparar BoW com TF-IDF\n",
    "for batch_idx, (bow_result, tfidf_result) in enumerate(\n",
    "    zip(bow_results, tfidf_results)\n",
    "    ):\n",
    "    \n",
    "    bow_corpus = bow_result\n",
    "    tfidf_matrix, tfidf_vectorizer = tfidf_result\n",
    "\n",
    "    # Converter BoW para matriz densa\n",
    "    bow_matrix = corpus2dense(bow_corpus, num_terms=len(dictionary)).T\n",
    "\n",
    "    # Garantir que ambas as matrizes tenham o mesmo vocabulário\n",
    "    tfidf_feature_names = tfidf_vectorizer.get_feature_names_out()\n",
    "    bow_feature_names = [dictionary[i] for i in range(len(dictionary))]\n",
    "    \n",
    "    if set(tfidf_feature_names) != set(bow_feature_names):\n",
    "        print(f\"Vocabulário diferente no batch {batch_idx}.\")\n",
    "        continue\n",
    "\n",
    "    # Comparar documentos usando a distância do cosseno\n",
    "    for doc_idx in range(len(bow_matrix)):\n",
    "        bow_vec = bow_matrix[doc_idx]\n",
    "        tfidf_vec = tfidf_matrix[doc_idx].toarray().flatten()\n",
    "        \n",
    "        # Calcular a distância do cosseno entre BoW e TF-IDF\n",
    "        distance = cosine(bow_vec, tfidf_vec)\n",
    "        distances_data.append({\n",
    "            \"batch_idx\": batch_idx,\n",
    "            \"doc_idx\": doc_idx,\n",
    "            \"distance\": distance\n",
    "        })\n",
    "        \n",
    "distances_df = pd.DataFrame(distances_data)"
   ]
  },
  {
   "cell_type": "code",
   "execution_count": 77,
   "metadata": {},
   "outputs": [
    {
     "name": "stdout",
     "output_type": "stream",
     "text": [
      "           count      mean       std  min       25%       50%       75%  \\\n",
      "batch_idx                                                                 \n",
      "0           44.0  0.070110  0.047913  0.0  0.037284  0.059231  0.107175   \n",
      "1           44.0  0.050727  0.034233  0.0  0.022300  0.037434  0.081187   \n",
      "2           44.0  0.064745  0.047961  0.0  0.016480  0.055532  0.114481   \n",
      "\n",
      "                max  \n",
      "batch_idx            \n",
      "0          0.251506  \n",
      "1          0.122566  \n",
      "2          0.152462  \n"
     ]
    }
   ],
   "source": [
    "# Resumo estatístico por batch\n",
    "summary_by_batch = distances_df.groupby('batch_idx')['distance'].describe()\n",
    "print(summary_by_batch)"
   ]
  },
  {
   "cell_type": "code",
   "execution_count": 74,
   "metadata": {},
   "outputs": [
    {
     "name": "stderr",
     "output_type": "stream",
     "text": [
      "/Users/etorebraga/Library/Caches/pypoetry/virtualenvs/topic-modeling-paper-aq0E2InM-py3.12/lib/python3.12/site-packages/seaborn/_oldcore.py:1075: FutureWarning: When grouping with a length-1 list-like, you will need to pass a length-1 tuple to get_group in a future version of pandas. Pass `(name,)` instead of `name` to silence this warning.\n",
      "  data_subset = grouped_data.get_group(pd_key)\n",
      "/Users/etorebraga/Library/Caches/pypoetry/virtualenvs/topic-modeling-paper-aq0E2InM-py3.12/lib/python3.12/site-packages/seaborn/_oldcore.py:1075: FutureWarning: When grouping with a length-1 list-like, you will need to pass a length-1 tuple to get_group in a future version of pandas. Pass `(name,)` instead of `name` to silence this warning.\n",
      "  data_subset = grouped_data.get_group(pd_key)\n",
      "/Users/etorebraga/Library/Caches/pypoetry/virtualenvs/topic-modeling-paper-aq0E2InM-py3.12/lib/python3.12/site-packages/seaborn/_oldcore.py:1075: FutureWarning: When grouping with a length-1 list-like, you will need to pass a length-1 tuple to get_group in a future version of pandas. Pass `(name,)` instead of `name` to silence this warning.\n",
      "  data_subset = grouped_data.get_group(pd_key)\n"
     ]
    },
    {
     "data": {
      "image/png": "[encoded data removed]",
      "text/plain": [
       "<Figure size 1200x800 with 1 Axes>"
      ]
     },
     "metadata": {},
     "output_type": "display_data"
    }
   ],
   "source": [
    "plt.figure(figsize=(12, 8))\n",
    "sns.histplot(\n",
    "    data=distances_df,\n",
    "    x='distance',\n",
    "    hue='batch_idx',\n",
    "    bins=30,\n",
    "    kde=True, \n",
    "    palette='Set2'\n",
    ")\n",
    "plt.title(\n",
    "    'Distribuição das Distâncias do Cosseno entre BoW e TF-IDF por Batch'\n",
    ")\n",
    "plt.xlabel('Distância do Cosseno')\n",
    "plt.ylabel('Frequência')\n",
    "plt.legend(\n",
    "    title='Batch',\n",
    "    loc='upper right',\n",
    "    labels=['Batch 0', 'Batch 1', 'Batch 2']\n",
    ")\n",
    "plt.show()"
   ]
  },
  {
   "cell_type": "code",
   "execution_count": 56,
   "metadata": {},
   "outputs": [
    {
     "data": {
      "image/png": "[encoded data removed]",
      "text/plain": [
       "<Figure size 1200x600 with 1 Axes>"
      ]
     },
     "metadata": {},
     "output_type": "display_data"
    }
   ],
   "source": [
    "plt.figure(figsize=(12, 6))\n",
    "sns.boxplot(x='batch_idx', y='distance', data=distances_df)\n",
    "plt.title('Boxplot das Distâncias do Cosseno por Batch')\n",
    "plt.xlabel('Batch')\n",
    "plt.ylabel('Distância do Cosseno')\n",
    "plt.show()"
   ]
  },
  {
   "cell_type": "markdown",
   "metadata": {},
   "source": [
    "## Aplicação das Técnicas"
   ]
  },
  {
   "cell_type": "markdown",
   "metadata": {},
   "source": [
    "## ATUALIZAÇÃO:\n",
    "Utilização das técnicas de NMF, LDA e LSA no intuito de encontrar a melhor técnica possível para utilização no modelo. A intenção é checar por meio do coherence score qual a técnica mais indicado para utilização no modelo com o corpus de sentenças."
   ]
  },
  {
   "cell_type": "markdown",
   "metadata": {},
   "source": [
    "### NMF"
   ]
  },
  {
   "cell_type": "markdown",
   "metadata": {},
   "source": [
    "### Non-negative matrix factorization\n",
    "A group of algorithms in multivariate analysis and linear algebra\n",
    "#### Definition:\n",
    "Factorizes a matrix V into two matrices W and H, ensuring all matrices have no negative elements.\n",
    "#### Purpose:\n",
    "Makes resulting matrices easier to inspect and is applicable where non-negativity is inherent, such as audio spectrograms or muscular activity data.\n",
    "#### Solution Nature:\n",
    "The problem is not exactly solvable in general and is usually approximated numerically.\n",
    "\n",
    "\n",
    "**Reference:**\n",
    "Lee DD, Seung HS. Learning the parts of objects by non-negative matrix factorization. Nature. 1999 Oct 21;401(6755):788-91. doi: 10.1038/44565. PMID: 10548103."
   ]
  },
  {
   "cell_type": "code",
   "execution_count": 33,
   "metadata": {},
   "outputs": [],
   "source": [
    "# Aplicar NMF\n",
    "def aplicar_nmf(tfidf_matrix, n_topics):\n",
    "    nmf_model = NMF(n_components=n_topics, random_state=42)\n",
    "    nmf_model.fit(tfidf_matrix)\n",
    "    return nmf_model"
   ]
  },
  {
   "cell_type": "code",
   "execution_count": 34,
   "metadata": {},
   "outputs": [],
   "source": [
    "nmf_models = [aplicar_nmf(tfidf_matrix, 3) for tfidf_matrix, _ in tfidf_matrices]"
   ]
  },
  {
   "cell_type": "code",
   "execution_count": 35,
   "metadata": {},
   "outputs": [
    {
     "data": {
      "text/plain": [
       "[NMF(n_components=3, random_state=42),\n",
       " NMF(n_components=3, random_state=42),\n",
       " NMF(n_components=3, random_state=42)]"
      ]
     },
     "execution_count": 35,
     "metadata": {},
     "output_type": "execute_result"
    }
   ],
   "source": [
    "nmf_models"
   ]
  },
  {
   "cell_type": "markdown",
   "metadata": {},
   "source": [
    "Incluir frequencia de cada palavra"
   ]
  },
  {
   "cell_type": "code",
   "execution_count": 74,
   "metadata": {},
   "outputs": [],
   "source": [
    "# Extrair tópicos\n",
    "def extrair_top_palavras_nmf(nmf_model, tfidf_vectorizer, top_n=10):\n",
    "    palavras = np.array(tfidf_vectorizer.get_feature_names_out())\n",
    "    top_palavras = []\n",
    "    for topic in nmf_model.components_:\n",
    "        top_palavras.append([palavras[i] for i in topic.argsort()[-top_n:]])\n",
    "    return top_palavras"
   ]
  },
  {
   "cell_type": "code",
   "execution_count": 75,
   "metadata": {},
   "outputs": [],
   "source": [
    "top_palavras_nmf = [\n",
    "    extrair_top_palavras_nmf(\n",
    "        nmf_models[i],\n",
    "        tfidf_matrices[i][1]\n",
    "        ) \n",
    "    for i in range(len(nmf_models))\n",
    "    ]"
   ]
  },
  {
   "cell_type": "code",
   "execution_count": 76,
   "metadata": {},
   "outputs": [
    {
     "data": {
      "text/plain": [
       "[['conforme',\n",
       "  'condenado',\n",
       "  'valendo',\n",
       "  'federal',\n",
       "  'acordao',\n",
       "  'recorrente',\n",
       "  'art',\n",
       "  'disposto',\n",
       "  'lei',\n",
       "  'artigo'],\n",
       " ['caput',\n",
       "  'hipotese',\n",
       "  'prevista',\n",
       "  'verificada',\n",
       "  'dano',\n",
       "  'onus',\n",
       "  'sucumbenciais',\n",
       "  'parcial',\n",
       "  'artigo',\n",
       "  'nao'],\n",
       " ['cpc',\n",
       "  'honorarios',\n",
       "  'custas',\n",
       "  'negar',\n",
       "  'legal',\n",
       "  'julgamento',\n",
       "  'ministerio',\n",
       "  'presente',\n",
       "  'fazendaria',\n",
       "  'publico']]"
      ]
     },
     "execution_count": 76,
     "metadata": {},
     "output_type": "execute_result"
    }
   ],
   "source": [
    "top_palavras_nmf[0]"
   ]
  },
  {
   "cell_type": "code",
   "execution_count": 77,
   "metadata": {},
   "outputs": [],
   "source": [
    "# Calcular o Coherence Score\n",
    "def calcular_coerencia_nmf(top_palavras, corpus_preprocessado, dictionary):\n",
    "    coherence_model = CoherenceModel(\n",
    "        topics=top_palavras,\n",
    "        texts=corpus_preprocessado,\n",
    "        dictionary=dictionary,\n",
    "        coherence='c_v'\n",
    "    )\n",
    "    coherence_score = coherence_model.get_coherence()\n",
    "    return coherence_score"
   ]
  },
  {
   "cell_type": "code",
   "execution_count": 78,
   "metadata": {},
   "outputs": [],
   "source": [
    "nmf_scores = [\n",
    "    calcular_coerencia_nmf(\n",
    "        top_palavras_nmf[i],\n",
    "        processed_docs[i],\n",
    "        Dictionary(processed_docs[i])\n",
    "    ) \n",
    "    for i in range(len(top_palavras_nmf))\n",
    "]"
   ]
  },
  {
   "cell_type": "code",
   "execution_count": 79,
   "metadata": {},
   "outputs": [
    {
     "data": {
      "text/plain": [
       "[0.8892691695363256, 0.8632013891759117, 0.9231895296742403]"
      ]
     },
     "execution_count": 79,
     "metadata": {},
     "output_type": "execute_result"
    }
   ],
   "source": [
    "nmf_scores"
   ]
  },
  {
   "cell_type": "code",
   "execution_count": 80,
   "metadata": {},
   "outputs": [],
   "source": [
    "nmf_topics = [[f\"{' '.join(top_palavras_nmf[i][j])}\" for j in range(3)] for i in range(len(top_palavras_nmf))]"
   ]
  },
  {
   "cell_type": "code",
   "execution_count": 54,
   "metadata": {},
   "outputs": [],
   "source": [
    "nmf_whole = [\n",
    "    {'modelo': nmf_models[i],\n",
    "     'score': nmf_scores[i],\n",
    "     'topicos': nmf_topics[i]} \n",
    "     for i in range(len(nmf_topics))\n",
    "]"
   ]
  },
  {
   "cell_type": "code",
   "execution_count": 81,
   "metadata": {},
   "outputs": [
    {
     "data": {
      "text/html": [
       "<div>\n",
       "<style scoped>\n",
       "    .dataframe tbody tr th:only-of-type {\n",
       "        vertical-align: middle;\n",
       "    }\n",
       "\n",
       "    .dataframe tbody tr th {\n",
       "        vertical-align: top;\n",
       "    }\n",
       "\n",
       "    .dataframe thead th {\n",
       "        text-align: right;\n",
       "    }\n",
       "</style>\n",
       "<table border=\"1\" class=\"dataframe\">\n",
       "  <thead>\n",
       "    <tr style=\"text-align: right;\">\n",
       "      <th></th>\n",
       "      <th>modelo</th>\n",
       "      <th>score</th>\n",
       "      <th>topicos</th>\n",
       "    </tr>\n",
       "  </thead>\n",
       "  <tbody>\n",
       "    <tr>\n",
       "      <th>0</th>\n",
       "      <td>NMF(n_components=3, random_state=42)</td>\n",
       "      <td>0.889269</td>\n",
       "      <td>[conforme condenado valendo federal acordao re...</td>\n",
       "    </tr>\n",
       "    <tr>\n",
       "      <th>1</th>\n",
       "      <td>NMF(n_components=3, random_state=42)</td>\n",
       "      <td>0.863201</td>\n",
       "      <td>[honorarios custas manter fundamentos proprios...</td>\n",
       "    </tr>\n",
       "    <tr>\n",
       "      <th>2</th>\n",
       "      <td>NMF(n_components=3, random_state=42)</td>\n",
       "      <td>0.923190</td>\n",
       "      <td>[regimento turmas interno tjrj transcricao dis...</td>\n",
       "    </tr>\n",
       "  </tbody>\n",
       "</table>\n",
       "</div>"
      ],
      "text/plain": [
       "                                 modelo     score  \\\n",
       "0  NMF(n_components=3, random_state=42)  0.889269   \n",
       "1  NMF(n_components=3, random_state=42)  0.863201   \n",
       "2  NMF(n_components=3, random_state=42)  0.923190   \n",
       "\n",
       "                                             topicos  \n",
       "0  [conforme condenado valendo federal acordao re...  \n",
       "1  [honorarios custas manter fundamentos proprios...  \n",
       "2  [regimento turmas interno tjrj transcricao dis...  "
      ]
     },
     "execution_count": 81,
     "metadata": {},
     "output_type": "execute_result"
    }
   ],
   "source": [
    "df_nmf = pd.DataFrame(nmf_whole)\n",
    "df_nmf"
   ]
  },
  {
   "cell_type": "markdown",
   "metadata": {},
   "source": [
    "### LDA"
   ]
  },
  {
   "cell_type": "markdown",
   "metadata": {},
   "source": [
    "### Latent Dirichlet allocation\n",
    "A generative statistical model in natural language processing\n",
    "#### Definition\n",
    "A Bayesian network and generative statistical model used for modeling automatically extracted topics in textual corpora.\n",
    "#### Purpose\n",
    "To analyze and represent written texts by identifying common themes and topics\n",
    "#### Solution Nature\n",
    "A machine learning methodology that uses Bayesian probability-based algorithms to discover latent topics based on co-occurrence of words from within a body of text (corpus)\n",
    "\n",
    "\n",
    "**References:** \n",
    "David M. Blei, Andrew Y. Ng, and Michael I. Jordan. 2003. Latent dirichlet allocation. J. Mach. Learn. Res. 3, null (3/1/2003), 993–1022."
   ]
  },
  {
   "cell_type": "code",
   "execution_count": 59,
   "metadata": {},
   "outputs": [],
   "source": [
    "# Aplicar LDA\n",
    "def aplicar_lda(tfidf_matrix, n_topics):\n",
    "    \"\"\"\n",
    "    Aplica o modelo LDA em uma matriz TF-IDF.\n",
    "    \"\"\"\n",
    "    lda_model = LDA(n_components=n_topics, random_state=42)\n",
    "    lda_topics = lda_model.fit_transform(tfidf_matrix)\n",
    "    return lda_model, lda_topics"
   ]
  },
  {
   "cell_type": "code",
   "execution_count": 61,
   "metadata": {},
   "outputs": [],
   "source": [
    "lda_models = [aplicar_lda(tfidf_matrix, 3) for tfidf_matrix, _ in tfidf_matrices]"
   ]
  },
  {
   "cell_type": "code",
   "execution_count": 66,
   "metadata": {},
   "outputs": [
    {
     "data": {
      "text/plain": [
       "[(LatentDirichletAllocation(n_components=3, random_state=42),\n",
       "  array([[0.04069785, 0.91835711, 0.04094505],\n",
       "         [0.33333333, 0.33333333, 0.33333333],\n",
       "         [0.04385131, 0.91205568, 0.04409302],\n",
       "         [0.33333333, 0.33333333, 0.33333333],\n",
       "         [0.04347648, 0.9123354 , 0.04418812],\n",
       "         [0.53909302, 0.41786813, 0.04303885],\n",
       "         [0.04048864, 0.91853634, 0.04097502],\n",
       "         [0.0483901 , 0.90325712, 0.04835278],\n",
       "         [0.0483901 , 0.90325712, 0.04835278],\n",
       "         [0.09916226, 0.10050819, 0.80032955],\n",
       "         [0.06374425, 0.78178512, 0.15447063],\n",
       "         [0.66482841, 0.16684826, 0.16832333],\n",
       "         [0.53826938, 0.41949684, 0.04223378],\n",
       "         [0.50946163, 0.42204951, 0.06848886],\n",
       "         [0.04348594, 0.91286497, 0.04364909],\n",
       "         [0.05760581, 0.88549541, 0.05689879],\n",
       "         [0.04036234, 0.91907387, 0.0405638 ],\n",
       "         [0.04604119, 0.90264645, 0.05131236],\n",
       "         [0.08403988, 0.84036282, 0.07559731],\n",
       "         [0.07982012, 0.09412431, 0.82605557],\n",
       "         [0.04324041, 0.91327714, 0.04348244],\n",
       "         [0.04953347, 0.90081006, 0.04965646],\n",
       "         [0.06433559, 0.87056866, 0.06509576],\n",
       "         [0.04428432, 0.91118322, 0.04453246],\n",
       "         [0.04385131, 0.91205568, 0.04409302],\n",
       "         [0.04385131, 0.91205568, 0.04409302],\n",
       "         [0.04467145, 0.91046402, 0.04486453],\n",
       "         [0.06036816, 0.81765615, 0.12197569],\n",
       "         [0.044697  , 0.91042393, 0.04487908],\n",
       "         [0.043059  , 0.91365048, 0.04329052],\n",
       "         [0.0409756 , 0.9177992 , 0.0412252 ],\n",
       "         [0.88211966, 0.06318815, 0.05469219],\n",
       "         [0.32822845, 0.62458429, 0.04718726],\n",
       "         [0.31050229, 0.64312902, 0.04636869],\n",
       "         [0.27026   , 0.2826631 , 0.4470769 ],\n",
       "         [0.07591728, 0.87419129, 0.04989144],\n",
       "         [0.11767737, 0.7734193 , 0.10890332],\n",
       "         [0.33333333, 0.33333333, 0.33333333],\n",
       "         [0.33333333, 0.33333333, 0.33333333],\n",
       "         [0.04313541, 0.91300955, 0.04385505],\n",
       "         [0.04385131, 0.91205568, 0.04409302],\n",
       "         [0.0805195 , 0.12505576, 0.79442474],\n",
       "         [0.043059  , 0.91365048, 0.04329052],\n",
       "         [0.04385131, 0.91205568, 0.04409302]])),\n",
       " (LatentDirichletAllocation(n_components=3, random_state=42),\n",
       "  array([[0.08165522, 0.83611556, 0.08222922],\n",
       "         [0.06958302, 0.8602734 , 0.07014358],\n",
       "         [0.91267727, 0.04345947, 0.04386326],\n",
       "         [0.91104171, 0.04426417, 0.04469411],\n",
       "         [0.91112408, 0.04440065, 0.04447527],\n",
       "         [0.86577657, 0.0674755 , 0.06674793],\n",
       "         [0.91409729, 0.0423597 , 0.04354302],\n",
       "         [0.92486433, 0.03732141, 0.03781426],\n",
       "         [0.90572168, 0.04471233, 0.04956599],\n",
       "         [0.08898353, 0.8213902 , 0.08962627],\n",
       "         [0.06872406, 0.8624896 , 0.06878634],\n",
       "         [0.90692459, 0.04569004, 0.04738537],\n",
       "         [0.17918713, 0.65319516, 0.16761771],\n",
       "         [0.91095035, 0.044312  , 0.04473764],\n",
       "         [0.90822913, 0.04586149, 0.04590938],\n",
       "         [0.132509  , 0.64513323, 0.22235777],\n",
       "         [0.90527801, 0.04672659, 0.0479954 ],\n",
       "         [0.91091022, 0.04440733, 0.04468246],\n",
       "         [0.91260557, 0.04355269, 0.04384175],\n",
       "         [0.91526224, 0.04113673, 0.04360104],\n",
       "         [0.91462874, 0.04208394, 0.04328732],\n",
       "         [0.89932383, 0.0493681 , 0.05130807],\n",
       "         [0.11393494, 0.10087065, 0.78519441],\n",
       "         [0.91591306, 0.04191008, 0.04217686],\n",
       "         [0.89508888, 0.04794239, 0.05696872],\n",
       "         [0.91015648, 0.04470108, 0.04514244],\n",
       "         [0.90670093, 0.05165019, 0.04164888],\n",
       "         [0.9014295 , 0.04873365, 0.04983684],\n",
       "         [0.16284147, 0.08924698, 0.74791154],\n",
       "         [0.91252084, 0.04353541, 0.04394374],\n",
       "         [0.91175738, 0.04407773, 0.04416489],\n",
       "         [0.92051878, 0.03942031, 0.04006091],\n",
       "         [0.33333333, 0.33333333, 0.33333333],\n",
       "         [0.91175738, 0.04407773, 0.04416489],\n",
       "         [0.87186289, 0.06282098, 0.06531612],\n",
       "         [0.91175738, 0.04407773, 0.04416489],\n",
       "         [0.91104171, 0.04426417, 0.04469411],\n",
       "         [0.91112408, 0.04440065, 0.04447527],\n",
       "         [0.11605976, 0.09971239, 0.78422785],\n",
       "         [0.91252084, 0.04353541, 0.04394374],\n",
       "         [0.06958302, 0.8602734 , 0.07014358],\n",
       "         [0.09192915, 0.81512152, 0.09294933],\n",
       "         [0.91226019, 0.04335307, 0.04438674],\n",
       "         [0.91500096, 0.04218737, 0.04281166]])),\n",
       " (LatentDirichletAllocation(n_components=3, random_state=42),\n",
       "  array([[0.08403888, 0.08378686, 0.83217427],\n",
       "         [0.08157013, 0.08220102, 0.83622885],\n",
       "         [0.08509457, 0.08583744, 0.82906799],\n",
       "         [0.06455707, 0.87179541, 0.06364752],\n",
       "         [0.04301515, 0.91419581, 0.04278904],\n",
       "         [0.04431601, 0.91162441, 0.04405957],\n",
       "         [0.04376248, 0.91271052, 0.04352699],\n",
       "         [0.29504747, 0.66567037, 0.03928216],\n",
       "         [0.0457421 , 0.90880814, 0.04544976],\n",
       "         [0.3403779 , 0.61340421, 0.04621789],\n",
       "         [0.04749908, 0.90626152, 0.0462394 ],\n",
       "         [0.44598554, 0.48982172, 0.06419274],\n",
       "         [0.364394  , 0.59553353, 0.04007246],\n",
       "         [0.09169147, 0.65117417, 0.25713436],\n",
       "         [0.05054555, 0.90036384, 0.04909061],\n",
       "         [0.72307535, 0.14891005, 0.1280146 ],\n",
       "         [0.14814819, 0.79721872, 0.05463308],\n",
       "         [0.0457421 , 0.90880814, 0.04544976],\n",
       "         [0.06181218, 0.87655493, 0.06163289],\n",
       "         [0.04301515, 0.91419581, 0.04278904],\n",
       "         [0.09187102, 0.09169141, 0.81643758],\n",
       "         [0.11309626, 0.77375815, 0.11314559],\n",
       "         [0.65012206, 0.30595048, 0.04392746],\n",
       "         [0.30718714, 0.29730278, 0.39551008],\n",
       "         [0.04376248, 0.91271052, 0.04352699],\n",
       "         [0.09320573, 0.09451898, 0.81227529],\n",
       "         [0.3444115 , 0.60752265, 0.04806585],\n",
       "         [0.04466166, 0.91081886, 0.04451949],\n",
       "         [0.04466166, 0.91081886, 0.04451949],\n",
       "         [0.07259777, 0.854808  , 0.07259423],\n",
       "         [0.33216428, 0.62768681, 0.04014891],\n",
       "         [0.34388117, 0.61677902, 0.03933982],\n",
       "         [0.04407362, 0.91198186, 0.04394452],\n",
       "         [0.06104468, 0.87783679, 0.06111853],\n",
       "         [0.06060508, 0.879527  , 0.05986792],\n",
       "         [0.06810998, 0.86688735, 0.06500267],\n",
       "         [0.06133552, 0.87765859, 0.06100588],\n",
       "         [0.31522596, 0.64492429, 0.03984975],\n",
       "         [0.51128751, 0.06599896, 0.42271353],\n",
       "         [0.06181218, 0.87655493, 0.06163289],\n",
       "         [0.04466166, 0.91081886, 0.04451949],\n",
       "         [0.04376248, 0.91271052, 0.04352699],\n",
       "         [0.37008136, 0.58937388, 0.04054476],\n",
       "         [0.09187102, 0.09169141, 0.81643758]]))]"
      ]
     },
     "execution_count": 66,
     "metadata": {},
     "output_type": "execute_result"
    }
   ],
   "source": [
    "lda_models"
   ]
  },
  {
   "cell_type": "code",
   "execution_count": 67,
   "metadata": {},
   "outputs": [],
   "source": [
    "def extrair_top_palavras_lda(lda_model, tfidf_vectorizer, top_n=10):\n",
    "    \"\"\"\n",
    "    Extrai as top N palavras de cada tópico do modelo LDA.\n",
    "    \"\"\"\n",
    "    palavras = np.array(tfidf_vectorizer.get_feature_names_out())\n",
    "    top_palavras = []\n",
    "    for topic_idx, topic in enumerate(lda_model.components_):\n",
    "        top_palavras.append([palavras[i] for i in topic.argsort()[-top_n:]])\n",
    "    return top_palavras"
   ]
  },
  {
   "cell_type": "code",
   "execution_count": 83,
   "metadata": {},
   "outputs": [],
   "source": [
    "top_palavras_lda = [extrair_top_palavras_lda(lda_models[i][0], tfidf_matrices[i][1]) for i in range(len(lda_models))]"
   ]
  },
  {
   "cell_type": "code",
   "execution_count": 84,
   "metadata": {},
   "outputs": [
    {
     "data": {
      "text/plain": [
       "[['mantida',\n",
       "  'verificada',\n",
       "  'hipotese',\n",
       "  'prevista',\n",
       "  'caput',\n",
       "  'nao',\n",
       "  'dano',\n",
       "  'onus',\n",
       "  'sucumbenciais',\n",
       "  'parcial'],\n",
       " ['fundamentos',\n",
       "  'proprios',\n",
       "  'recorrente',\n",
       "  'valendo',\n",
       "  'federal',\n",
       "  'acordao',\n",
       "  'disposto',\n",
       "  'art',\n",
       "  'lei',\n",
       "  'artigo'],\n",
       " ['custas',\n",
       "  'cpc',\n",
       "  'negar',\n",
       "  'legal',\n",
       "  'presente',\n",
       "  'ministerio',\n",
       "  'fazendaria',\n",
       "  'julgamento',\n",
       "  'iv',\n",
       "  'publico']]"
      ]
     },
     "execution_count": 84,
     "metadata": {},
     "output_type": "execute_result"
    }
   ],
   "source": [
    "top_palavras_lda[0]"
   ]
  },
  {
   "cell_type": "code",
   "execution_count": 86,
   "metadata": {},
   "outputs": [],
   "source": [
    "def calcular_coerencia_lda(top_palavras, corpus_preprocessado, dictionary):\n",
    "    \"\"\"\n",
    "    Calcula o Coherence Score para os tópicos gerados pelo LDA.\n",
    "    \"\"\"\n",
    "    coherence_model = CoherenceModel(\n",
    "        topics=[[word for word in topic if word in dictionary.token2id] \n",
    "                for topic in top_palavras],\n",
    "        texts=corpus_preprocessado,\n",
    "        dictionary=dictionary,\n",
    "        coherence='c_v'\n",
    "    )\n",
    "    coherence_score = coherence_model.get_coherence()\n",
    "    return coherence_score\n"
   ]
  },
  {
   "cell_type": "code",
   "execution_count": 87,
   "metadata": {},
   "outputs": [],
   "source": [
    "lda_scores = [\n",
    "    calcular_coerencia_lda(\n",
    "        top_palavras_lda[i],\n",
    "        processed_docs[i],\n",
    "        Dictionary(processed_docs[i])\n",
    "    ) \n",
    "    for i in range(len(top_palavras_lda))\n",
    "]"
   ]
  },
  {
   "cell_type": "code",
   "execution_count": 88,
   "metadata": {},
   "outputs": [
    {
     "data": {
      "text/plain": [
       "[0.8610600604520294, 0.6840876357921323, 0.882489902729031]"
      ]
     },
     "execution_count": 88,
     "metadata": {},
     "output_type": "execute_result"
    }
   ],
   "source": [
    "lda_scores"
   ]
  },
  {
   "cell_type": "code",
   "execution_count": 89,
   "metadata": {},
   "outputs": [],
   "source": [
    "lda_topics = [[f\"{' '.join(top_palavras_lda[i][j])}\" for j in range(3)] for i in range(len(top_palavras_lda))]"
   ]
  },
  {
   "cell_type": "code",
   "execution_count": 90,
   "metadata": {},
   "outputs": [],
   "source": [
    "lda_whole = [\n",
    "    {'modelo': lda_models[i],\n",
    "     'score': lda_scores[i],\n",
    "     'topicos': lda_topics[i]} \n",
    "     for i in range(len(lda_topics))\n",
    "]"
   ]
  },
  {
   "cell_type": "code",
   "execution_count": 92,
   "metadata": {},
   "outputs": [
    {
     "data": {
      "text/html": [
       "<div>\n",
       "<style scoped>\n",
       "    .dataframe tbody tr th:only-of-type {\n",
       "        vertical-align: middle;\n",
       "    }\n",
       "\n",
       "    .dataframe tbody tr th {\n",
       "        vertical-align: top;\n",
       "    }\n",
       "\n",
       "    .dataframe thead th {\n",
       "        text-align: right;\n",
       "    }\n",
       "</style>\n",
       "<table border=\"1\" class=\"dataframe\">\n",
       "  <thead>\n",
       "    <tr style=\"text-align: right;\">\n",
       "      <th></th>\n",
       "      <th>modelo</th>\n",
       "      <th>score</th>\n",
       "      <th>topicos</th>\n",
       "    </tr>\n",
       "  </thead>\n",
       "  <tbody>\n",
       "    <tr>\n",
       "      <th>0</th>\n",
       "      <td>(LatentDirichletAllocation(n_components=3, ran...</td>\n",
       "      <td>0.861060</td>\n",
       "      <td>[mantida verificada hipotese prevista caput na...</td>\n",
       "    </tr>\n",
       "    <tr>\n",
       "      <th>1</th>\n",
       "      <td>(LatentDirichletAllocation(n_components=3, ran...</td>\n",
       "      <td>0.684088</td>\n",
       "      <td>[fundamentos recorrente principios sendo feder...</td>\n",
       "    </tr>\n",
       "    <tr>\n",
       "      <th>2</th>\n",
       "      <td>(LatentDirichletAllocation(n_components=3, ran...</td>\n",
       "      <td>0.882490</td>\n",
       "      <td>[instancia oficial janeiro rio capital outubro...</td>\n",
       "    </tr>\n",
       "  </tbody>\n",
       "</table>\n",
       "</div>"
      ],
      "text/plain": [
       "                                              modelo     score  \\\n",
       "0  (LatentDirichletAllocation(n_components=3, ran...  0.861060   \n",
       "1  (LatentDirichletAllocation(n_components=3, ran...  0.684088   \n",
       "2  (LatentDirichletAllocation(n_components=3, ran...  0.882490   \n",
       "\n",
       "                                             topicos  \n",
       "0  [mantida verificada hipotese prevista caput na...  \n",
       "1  [fundamentos recorrente principios sendo feder...  \n",
       "2  [instancia oficial janeiro rio capital outubro...  "
      ]
     },
     "execution_count": 92,
     "metadata": {},
     "output_type": "execute_result"
    }
   ],
   "source": [
    "df_lda = pd.DataFrame(lda_whole)\n",
    "df_lda"
   ]
  },
  {
   "cell_type": "markdown",
   "metadata": {},
   "source": [
    "### LSA"
   ]
  },
  {
   "cell_type": "markdown",
   "metadata": {},
   "source": [
    "### Latent semantic analysis\n",
    "A technique in natural language processing of analyzing document-term \n",
    "relationships\n",
    "#### Definition\n",
    "Latent semantic analysis (LSA) is a natural language processing technique for analyzing relationships between documents and the terms they contain, by producing concepts related to the documents and terms.\n",
    "#### Purpose\n",
    "To address issues of synonymy and polysemy in text retrieval by establishing associations between documents and terms\n",
    "#### Solution Nature\n",
    "LSA utilizes Singular Value Decomposition (SVD) to find the latent semantic structure of words spread across documents\n",
    "\n",
    "**Reference**: \n",
    "Deerwester, S., Dumais, S.T., Furnas, G.W., Landauer, T.K. and Harshman, R. (1990), Indexing by latent semantic analysis. J. Am. Soc. Inf. Sci., 41: 391-407. https://doi.org/10.1002/(SICI)1097-4571(199009)41:6<391::AID-ASI1>3.0.CO;2-9"
   ]
  },
  {
   "cell_type": "code",
   "execution_count": 101,
   "metadata": {},
   "outputs": [],
   "source": [
    "# Aplicar LSA\n",
    "def aplicar_lsa(tfidf_matrix, n_topics):\n",
    "    \"\"\"\n",
    "    Aplica o modelo LSA em uma matriz TF-IDF.\n",
    "    \"\"\"\n",
    "    lsa_model = TruncatedSVD(n_components=n_topics, random_state=42)\n",
    "    lsa_model.fit(tfidf_matrix)\n",
    "    return lsa_model\n"
   ]
  },
  {
   "cell_type": "code",
   "execution_count": 104,
   "metadata": {},
   "outputs": [],
   "source": [
    "lsa_models = [aplicar_lsa(tfidf_matrix, 3) for tfidf_matrix, _ in tfidf_matrices]"
   ]
  },
  {
   "cell_type": "code",
   "execution_count": 105,
   "metadata": {},
   "outputs": [
    {
     "data": {
      "text/plain": [
       "[TruncatedSVD(n_components=3, random_state=42),\n",
       " TruncatedSVD(n_components=3, random_state=42),\n",
       " TruncatedSVD(n_components=3, random_state=42)]"
      ]
     },
     "execution_count": 105,
     "metadata": {},
     "output_type": "execute_result"
    }
   ],
   "source": [
    "lsa_models"
   ]
  },
  {
   "cell_type": "code",
   "execution_count": 102,
   "metadata": {},
   "outputs": [],
   "source": [
    "# 4. Extrair tópicos\n",
    "def extrair_top_palavras_lsa(lsa_model, tfidf_vectorizer, top_n=10):\n",
    "    \"\"\"\n",
    "    Extrai as top N palavras de cada tópico do modelo LSA.\n",
    "    \"\"\"\n",
    "    palavras = np.array(tfidf_vectorizer.get_feature_names_out())\n",
    "    top_palavras = []\n",
    "    for topic in lsa_model.components_:\n",
    "        top_palavras.append([palavras[i] for i in topic.argsort()[-top_n:]])\n",
    "    return top_palavras"
   ]
  },
  {
   "cell_type": "code",
   "execution_count": 106,
   "metadata": {},
   "outputs": [],
   "source": [
    "top_palavras_lsa = [extrair_top_palavras_lsa(lsa_models[i], tfidf_matrices[i][1]) for i in range(len(lsa_models))]"
   ]
  },
  {
   "cell_type": "code",
   "execution_count": 107,
   "metadata": {},
   "outputs": [
    {
     "data": {
      "text/plain": [
       "[['fundamentos',\n",
       "  'resolucao',\n",
       "  'valendo',\n",
       "  'recorrente',\n",
       "  'acordao',\n",
       "  'federal',\n",
       "  'art',\n",
       "  'disposto',\n",
       "  'lei',\n",
       "  'artigo'],\n",
       " ['caput',\n",
       "  'verificada',\n",
       "  'prevista',\n",
       "  'mantida',\n",
       "  'parcial',\n",
       "  'sucumbenciais',\n",
       "  'onus',\n",
       "  'dano',\n",
       "  'nao',\n",
       "  'artigo'],\n",
       " ['iv',\n",
       "  'negar',\n",
       "  'legal',\n",
       "  'parcial',\n",
       "  'nao',\n",
       "  'presente',\n",
       "  'ministerio',\n",
       "  'fazendaria',\n",
       "  'julgamento',\n",
       "  'publico']]"
      ]
     },
     "execution_count": 107,
     "metadata": {},
     "output_type": "execute_result"
    }
   ],
   "source": [
    "top_palavras_lsa[0]"
   ]
  },
  {
   "cell_type": "code",
   "execution_count": 103,
   "metadata": {},
   "outputs": [],
   "source": [
    "# Calcular o Coherence Score\n",
    "def calcular_coerencia_lsa(top_palavras, corpus_preprocessado, dictionary):\n",
    "    \"\"\"\n",
    "    Calcula o Coherence Score para os tópicos gerados pelo LSA.\n",
    "    \"\"\"\n",
    "    coherence_model = CoherenceModel(\n",
    "        topics=[[word for word in topic if word in dictionary.token2id] \n",
    "                for topic in top_palavras],\n",
    "        texts=corpus_preprocessado,\n",
    "        dictionary=dictionary,\n",
    "        coherence='c_v'\n",
    "    )\n",
    "    coherence_score = coherence_model.get_coherence()\n",
    "    return coherence_score"
   ]
  },
  {
   "cell_type": "code",
   "execution_count": 108,
   "metadata": {},
   "outputs": [],
   "source": [
    "lsa_scores = [calcular_coerencia_lsa(top_palavras_lsa[i], processed_docs[i], Dictionary(processed_docs[i])) for i in range(len(top_palavras_lsa))]"
   ]
  },
  {
   "cell_type": "code",
   "execution_count": 110,
   "metadata": {},
   "outputs": [
    {
     "data": {
      "text/plain": [
       "[0.7664024517729856, 0.9037100442133043, 0.9267319723514312]"
      ]
     },
     "execution_count": 110,
     "metadata": {},
     "output_type": "execute_result"
    }
   ],
   "source": [
    "lsa_scores"
   ]
  },
  {
   "cell_type": "code",
   "execution_count": 112,
   "metadata": {},
   "outputs": [],
   "source": [
    "lsa_topics = [[f\"{' '.join(top_palavras_lsa[i][j])}\" for j in range(3)] for i in range(len(top_palavras_lsa))] "
   ]
  },
  {
   "cell_type": "code",
   "execution_count": 113,
   "metadata": {},
   "outputs": [],
   "source": [
    "lsa_whole = [{'modelo': lsa_models[i], 'score': lsa_scores[i], 'topicos': lsa_topics[i]} for i in range(len(lsa_topics))]"
   ]
  },
  {
   "cell_type": "code",
   "execution_count": 115,
   "metadata": {},
   "outputs": [
    {
     "data": {
      "text/html": [
       "<div>\n",
       "<style scoped>\n",
       "    .dataframe tbody tr th:only-of-type {\n",
       "        vertical-align: middle;\n",
       "    }\n",
       "\n",
       "    .dataframe tbody tr th {\n",
       "        vertical-align: top;\n",
       "    }\n",
       "\n",
       "    .dataframe thead th {\n",
       "        text-align: right;\n",
       "    }\n",
       "</style>\n",
       "<table border=\"1\" class=\"dataframe\">\n",
       "  <thead>\n",
       "    <tr style=\"text-align: right;\">\n",
       "      <th></th>\n",
       "      <th>modelo</th>\n",
       "      <th>score</th>\n",
       "      <th>topicos</th>\n",
       "    </tr>\n",
       "  </thead>\n",
       "  <tbody>\n",
       "    <tr>\n",
       "      <th>0</th>\n",
       "      <td>TruncatedSVD(n_components=3, random_state=42)</td>\n",
       "      <td>0.766402</td>\n",
       "      <td>[fundamentos resolucao valendo recorrente acor...</td>\n",
       "    </tr>\n",
       "    <tr>\n",
       "      <th>1</th>\n",
       "      <td>TruncatedSVD(n_components=3, random_state=42)</td>\n",
       "      <td>0.903710</td>\n",
       "      <td>[resolucao principios sendo recorrente federal...</td>\n",
       "    </tr>\n",
       "    <tr>\n",
       "      <th>2</th>\n",
       "      <td>TruncatedSVD(n_components=3, random_state=42)</td>\n",
       "      <td>0.926732</td>\n",
       "      <td>[valendo federal condenado honorarios custas r...</td>\n",
       "    </tr>\n",
       "  </tbody>\n",
       "</table>\n",
       "</div>"
      ],
      "text/plain": [
       "                                          modelo     score  \\\n",
       "0  TruncatedSVD(n_components=3, random_state=42)  0.766402   \n",
       "1  TruncatedSVD(n_components=3, random_state=42)  0.903710   \n",
       "2  TruncatedSVD(n_components=3, random_state=42)  0.926732   \n",
       "\n",
       "                                             topicos  \n",
       "0  [fundamentos resolucao valendo recorrente acor...  \n",
       "1  [resolucao principios sendo recorrente federal...  \n",
       "2  [valendo federal condenado honorarios custas r...  "
      ]
     },
     "execution_count": 115,
     "metadata": {},
     "output_type": "execute_result"
    }
   ],
   "source": [
    "df_lsa = pd.DataFrame(lsa_whole)\n",
    "df_lsa"
   ]
  },
  {
   "cell_type": "markdown",
   "metadata": {},
   "source": [
    "### Análise da Coerência dos modelos"
   ]
  },
  {
   "cell_type": "code",
   "execution_count": 122,
   "metadata": {},
   "outputs": [],
   "source": [
    "resultados = {'nmf': df_nmf, 'lda': df_lda, 'lsa': df_lsa}"
   ]
  },
  {
   "cell_type": "code",
   "execution_count": 123,
   "metadata": {},
   "outputs": [
    {
     "data": {
      "text/html": [
       "<div>\n",
       "<style scoped>\n",
       "    .dataframe tbody tr th:only-of-type {\n",
       "        vertical-align: middle;\n",
       "    }\n",
       "\n",
       "    .dataframe tbody tr th {\n",
       "        vertical-align: top;\n",
       "    }\n",
       "\n",
       "    .dataframe thead th {\n",
       "        text-align: right;\n",
       "    }\n",
       "</style>\n",
       "<table border=\"1\" class=\"dataframe\">\n",
       "  <thead>\n",
       "    <tr style=\"text-align: right;\">\n",
       "      <th></th>\n",
       "      <th>modelo</th>\n",
       "      <th>score</th>\n",
       "      <th>topicos</th>\n",
       "      <th>modelo_tipo</th>\n",
       "    </tr>\n",
       "  </thead>\n",
       "  <tbody>\n",
       "    <tr>\n",
       "      <th>0</th>\n",
       "      <td>NMF(n_components=3, random_state=42)</td>\n",
       "      <td>0.889269</td>\n",
       "      <td>[conforme condenado valendo federal acordao re...</td>\n",
       "      <td>nmf</td>\n",
       "    </tr>\n",
       "    <tr>\n",
       "      <th>1</th>\n",
       "      <td>NMF(n_components=3, random_state=42)</td>\n",
       "      <td>0.863201</td>\n",
       "      <td>[honorarios custas manter fundamentos proprios...</td>\n",
       "      <td>nmf</td>\n",
       "    </tr>\n",
       "    <tr>\n",
       "      <th>2</th>\n",
       "      <td>NMF(n_components=3, random_state=42)</td>\n",
       "      <td>0.923190</td>\n",
       "      <td>[regimento turmas interno tjrj transcricao dis...</td>\n",
       "      <td>nmf</td>\n",
       "    </tr>\n",
       "    <tr>\n",
       "      <th>3</th>\n",
       "      <td>(LatentDirichletAllocation(n_components=3, ran...</td>\n",
       "      <td>0.861060</td>\n",
       "      <td>[mantida verificada hipotese prevista caput na...</td>\n",
       "      <td>lda</td>\n",
       "    </tr>\n",
       "    <tr>\n",
       "      <th>4</th>\n",
       "      <td>(LatentDirichletAllocation(n_components=3, ran...</td>\n",
       "      <td>0.684088</td>\n",
       "      <td>[fundamentos recorrente principios sendo feder...</td>\n",
       "      <td>lda</td>\n",
       "    </tr>\n",
       "    <tr>\n",
       "      <th>5</th>\n",
       "      <td>(LatentDirichletAllocation(n_components=3, ran...</td>\n",
       "      <td>0.882490</td>\n",
       "      <td>[instancia oficial janeiro rio capital outubro...</td>\n",
       "      <td>lda</td>\n",
       "    </tr>\n",
       "    <tr>\n",
       "      <th>6</th>\n",
       "      <td>TruncatedSVD(n_components=3, random_state=42)</td>\n",
       "      <td>0.766402</td>\n",
       "      <td>[fundamentos resolucao valendo recorrente acor...</td>\n",
       "      <td>lsa</td>\n",
       "    </tr>\n",
       "    <tr>\n",
       "      <th>7</th>\n",
       "      <td>TruncatedSVD(n_components=3, random_state=42)</td>\n",
       "      <td>0.903710</td>\n",
       "      <td>[resolucao principios sendo recorrente federal...</td>\n",
       "      <td>lsa</td>\n",
       "    </tr>\n",
       "    <tr>\n",
       "      <th>8</th>\n",
       "      <td>TruncatedSVD(n_components=3, random_state=42)</td>\n",
       "      <td>0.926732</td>\n",
       "      <td>[valendo federal condenado honorarios custas r...</td>\n",
       "      <td>lsa</td>\n",
       "    </tr>\n",
       "  </tbody>\n",
       "</table>\n",
       "</div>"
      ],
      "text/plain": [
       "                                              modelo     score  \\\n",
       "0               NMF(n_components=3, random_state=42)  0.889269   \n",
       "1               NMF(n_components=3, random_state=42)  0.863201   \n",
       "2               NMF(n_components=3, random_state=42)  0.923190   \n",
       "3  (LatentDirichletAllocation(n_components=3, ran...  0.861060   \n",
       "4  (LatentDirichletAllocation(n_components=3, ran...  0.684088   \n",
       "5  (LatentDirichletAllocation(n_components=3, ran...  0.882490   \n",
       "6      TruncatedSVD(n_components=3, random_state=42)  0.766402   \n",
       "7      TruncatedSVD(n_components=3, random_state=42)  0.903710   \n",
       "8      TruncatedSVD(n_components=3, random_state=42)  0.926732   \n",
       "\n",
       "                                             topicos modelo_tipo  \n",
       "0  [conforme condenado valendo federal acordao re...         nmf  \n",
       "1  [honorarios custas manter fundamentos proprios...         nmf  \n",
       "2  [regimento turmas interno tjrj transcricao dis...         nmf  \n",
       "3  [mantida verificada hipotese prevista caput na...         lda  \n",
       "4  [fundamentos recorrente principios sendo feder...         lda  \n",
       "5  [instancia oficial janeiro rio capital outubro...         lda  \n",
       "6  [fundamentos resolucao valendo recorrente acor...         lsa  \n",
       "7  [resolucao principios sendo recorrente federal...         lsa  \n",
       "8  [valendo federal condenado honorarios custas r...         lsa  "
      ]
     },
     "execution_count": 123,
     "metadata": {},
     "output_type": "execute_result"
    }
   ],
   "source": [
    "dfs = []\n",
    "for modelo_tipo, df in resultados.items():\n",
    "    df['modelo_tipo'] = modelo_tipo\n",
    "    dfs.append(df)\n",
    "\n",
    "# Concatenar todos os dataframes\n",
    "df_resultados = pd.concat(dfs, ignore_index=True)\n",
    "\n",
    "df_resultados"
   ]
  },
  {
   "cell_type": "markdown",
   "metadata": {},
   "source": [
    "## Atualização: \n",
    "Os dados demonstraram um problema de interpretabilidade nos termos de frequencia devido a primeira passagem pelo modelo não haver o ajuste da técnica de Bag of Words para ser possível concentrar semanticamente alguns termos e assim gerar dados mais densos. "
   ]
  },
  {
   "cell_type": "markdown",
   "metadata": {},
   "source": [
    "## Análise de Coesão dos Grupos"
   ]
  },
  {
   "cell_type": "code",
   "execution_count": null,
   "metadata": {},
   "outputs": [],
   "source": [
    "Matrix de Instabilidade -> aplicar ||| \n",
    "Método de Frobenius -> histograma de palavras mais coerentes e menos coerentes\n"
   ]
  },
  {
   "cell_type": "code",
   "execution_count": null,
   "metadata": {},
   "outputs": [],
   "source": [
    "Análise de Coesão dos Grupo -> kmeans.clusters fit(x) {Coesão} \n",
    "-> kmeans.Inertia [evitar negativos] {Distinção} ->\n",
    "kmeans.silluette_score {Relação entre Coesão e Distinção} [coeficiente hand - eval]"
   ]
  },
  {
   "cell_type": "code",
   "execution_count": null,
   "metadata": {},
   "outputs": [],
   "source": [
    "Falsos Positivos e Negativos de Cada Tópico -> Justificativa -> \n",
    "Passa por LSA (Importancia Semantica) | pLSA (Probabilistica Importancia Semantica)\n",
    "->  modelo exato [MUITO IMPORTANTE] | cluster abrangente [POUCO IMPORTANTE]"
   ]
  },
  {
   "cell_type": "code",
   "execution_count": null,
   "metadata": {},
   "outputs": [],
   "source": [
    "Calibragem de Modelo -> \"Aleatório\" -> "
   ]
  }
 ],
 "metadata": {
  "kernelspec": {
   "display_name": "topic-modeling-paper-aq0E2InM-py3.12",
   "language": "python",
   "name": "python3"
  },
  "language_info": {
   "codemirror_mode": {
    "name": "ipython",
    "version": 3
   },
   "file_extension": ".py",
   "mimetype": "text/x-python",
   "name": "python",
   "nbconvert_exporter": "python",
   "pygments_lexer": "ipython3",
   "version": "3.12.3"
  }
 },
 "nbformat": 4,
 "nbformat_minor": 2
}
